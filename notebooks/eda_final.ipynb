{
 "cells": [
  {
   "cell_type": "markdown",
   "metadata": {},
   "source": [
    "# Analiza konačnog skupa podataka"
   ]
  },
  {
   "cell_type": "code",
   "execution_count": 26,
   "metadata": {},
   "outputs": [],
   "source": [
    "#import potrebnih knjižnica\n",
    "import matplotlib.pyplot as plt\n",
    "import plotly.express as px\n",
    "import plotly.graph_objects as go\n",
    "from plotly.subplots import make_subplots\n",
    "import pandas as pd\n",
    "import nibabel as nib\n",
    "import glob\n",
    "import re\n",
    "import os\n",
    "import numpy as np\n",
    "from matplotlib.colors import Normalize\n",
    "import subprocess"
   ]
  },
  {
   "cell_type": "code",
   "execution_count": 15,
   "metadata": {},
   "outputs": [
    {
     "data": {
      "text/html": [
       "<div>\n",
       "<style scoped>\n",
       "    .dataframe tbody tr th:only-of-type {\n",
       "        vertical-align: middle;\n",
       "    }\n",
       "\n",
       "    .dataframe tbody tr th {\n",
       "        vertical-align: top;\n",
       "    }\n",
       "\n",
       "    .dataframe thead th {\n",
       "        text-align: right;\n",
       "    }\n",
       "</style>\n",
       "<table border=\"1\" class=\"dataframe\">\n",
       "  <thead>\n",
       "    <tr style=\"text-align: right;\">\n",
       "      <th></th>\n",
       "      <th>IXI_ID</th>\n",
       "      <th>SEX_ID</th>\n",
       "      <th>HEIGHT</th>\n",
       "      <th>WEIGHT</th>\n",
       "      <th>ETHNIC_ID</th>\n",
       "      <th>MARITAL_ID</th>\n",
       "      <th>OCCUPATION_ID</th>\n",
       "      <th>QUALIFICATION_ID</th>\n",
       "      <th>DOB</th>\n",
       "      <th>DATE_AVAILABLE</th>\n",
       "      <th>STUDY_DATE</th>\n",
       "      <th>AGE</th>\n",
       "    </tr>\n",
       "  </thead>\n",
       "  <tbody>\n",
       "    <tr>\n",
       "      <th>0</th>\n",
       "      <td>2</td>\n",
       "      <td>2</td>\n",
       "      <td>164</td>\n",
       "      <td>58</td>\n",
       "      <td>1</td>\n",
       "      <td>4</td>\n",
       "      <td>1</td>\n",
       "      <td>5</td>\n",
       "      <td>1970-01-30</td>\n",
       "      <td>1</td>\n",
       "      <td>2005-11-18</td>\n",
       "      <td>35.800137</td>\n",
       "    </tr>\n",
       "    <tr>\n",
       "      <th>1</th>\n",
       "      <td>12</td>\n",
       "      <td>1</td>\n",
       "      <td>175</td>\n",
       "      <td>70</td>\n",
       "      <td>1</td>\n",
       "      <td>2</td>\n",
       "      <td>1</td>\n",
       "      <td>5</td>\n",
       "      <td>1966-08-20</td>\n",
       "      <td>1</td>\n",
       "      <td>2005-06-01</td>\n",
       "      <td>38.781656</td>\n",
       "    </tr>\n",
       "    <tr>\n",
       "      <th>2</th>\n",
       "      <td>13</td>\n",
       "      <td>1</td>\n",
       "      <td>182</td>\n",
       "      <td>70</td>\n",
       "      <td>1</td>\n",
       "      <td>2</td>\n",
       "      <td>1</td>\n",
       "      <td>5</td>\n",
       "      <td>1958-09-15</td>\n",
       "      <td>1</td>\n",
       "      <td>2005-06-01</td>\n",
       "      <td>46.710472</td>\n",
       "    </tr>\n",
       "    <tr>\n",
       "      <th>3</th>\n",
       "      <td>15</td>\n",
       "      <td>1</td>\n",
       "      <td>181</td>\n",
       "      <td>90</td>\n",
       "      <td>2</td>\n",
       "      <td>1</td>\n",
       "      <td>6</td>\n",
       "      <td>5</td>\n",
       "      <td>1981-03-11</td>\n",
       "      <td>1</td>\n",
       "      <td>2005-06-23</td>\n",
       "      <td>24.284736</td>\n",
       "    </tr>\n",
       "    <tr>\n",
       "      <th>4</th>\n",
       "      <td>16</td>\n",
       "      <td>1</td>\n",
       "      <td>172</td>\n",
       "      <td>63</td>\n",
       "      <td>1</td>\n",
       "      <td>2</td>\n",
       "      <td>1</td>\n",
       "      <td>5</td>\n",
       "      <td>1950-04-24</td>\n",
       "      <td>1</td>\n",
       "      <td>2005-06-24</td>\n",
       "      <td>55.167693</td>\n",
       "    </tr>\n",
       "    <tr>\n",
       "      <th>...</th>\n",
       "      <td>...</td>\n",
       "      <td>...</td>\n",
       "      <td>...</td>\n",
       "      <td>...</td>\n",
       "      <td>...</td>\n",
       "      <td>...</td>\n",
       "      <td>...</td>\n",
       "      <td>...</td>\n",
       "      <td>...</td>\n",
       "      <td>...</td>\n",
       "      <td>...</td>\n",
       "      <td>...</td>\n",
       "    </tr>\n",
       "    <tr>\n",
       "      <th>556</th>\n",
       "      <td>648</td>\n",
       "      <td>1</td>\n",
       "      <td>193</td>\n",
       "      <td>120</td>\n",
       "      <td>1</td>\n",
       "      <td>1</td>\n",
       "      <td>6</td>\n",
       "      <td>4</td>\n",
       "      <td>1959-03-08</td>\n",
       "      <td>1</td>\n",
       "      <td>2006-11-27</td>\n",
       "      <td>47.723477</td>\n",
       "    </tr>\n",
       "    <tr>\n",
       "      <th>557</th>\n",
       "      <td>651</td>\n",
       "      <td>1</td>\n",
       "      <td>175</td>\n",
       "      <td>61</td>\n",
       "      <td>3</td>\n",
       "      <td>2</td>\n",
       "      <td>8</td>\n",
       "      <td>2</td>\n",
       "      <td>1956-07-09</td>\n",
       "      <td>1</td>\n",
       "      <td>2006-12-01</td>\n",
       "      <td>50.395619</td>\n",
       "    </tr>\n",
       "    <tr>\n",
       "      <th>558</th>\n",
       "      <td>652</td>\n",
       "      <td>1</td>\n",
       "      <td>163</td>\n",
       "      <td>80</td>\n",
       "      <td>1</td>\n",
       "      <td>1</td>\n",
       "      <td>1</td>\n",
       "      <td>5</td>\n",
       "      <td>1963-12-05</td>\n",
       "      <td>1</td>\n",
       "      <td>2006-12-01</td>\n",
       "      <td>42.989733</td>\n",
       "    </tr>\n",
       "    <tr>\n",
       "      <th>559</th>\n",
       "      <td>653</td>\n",
       "      <td>1</td>\n",
       "      <td>172</td>\n",
       "      <td>100</td>\n",
       "      <td>1</td>\n",
       "      <td>3</td>\n",
       "      <td>1</td>\n",
       "      <td>5</td>\n",
       "      <td>1960-09-14</td>\n",
       "      <td>1</td>\n",
       "      <td>2006-12-04</td>\n",
       "      <td>46.220397</td>\n",
       "    </tr>\n",
       "    <tr>\n",
       "      <th>560</th>\n",
       "      <td>662</td>\n",
       "      <td>1</td>\n",
       "      <td>182</td>\n",
       "      <td>98</td>\n",
       "      <td>1</td>\n",
       "      <td>4</td>\n",
       "      <td>1</td>\n",
       "      <td>3</td>\n",
       "      <td>1965-03-08 00:00:00</td>\n",
       "      <td>1</td>\n",
       "      <td>2006-12-04</td>\n",
       "      <td>41.741273</td>\n",
       "    </tr>\n",
       "  </tbody>\n",
       "</table>\n",
       "<p>561 rows × 12 columns</p>\n",
       "</div>"
      ],
      "text/plain": [
       "     IXI_ID  SEX_ID  HEIGHT  WEIGHT  ETHNIC_ID  MARITAL_ID  OCCUPATION_ID  \\\n",
       "0         2       2     164      58          1           4              1   \n",
       "1        12       1     175      70          1           2              1   \n",
       "2        13       1     182      70          1           2              1   \n",
       "3        15       1     181      90          2           1              6   \n",
       "4        16       1     172      63          1           2              1   \n",
       "..      ...     ...     ...     ...        ...         ...            ...   \n",
       "556     648       1     193     120          1           1              6   \n",
       "557     651       1     175      61          3           2              8   \n",
       "558     652       1     163      80          1           1              1   \n",
       "559     653       1     172     100          1           3              1   \n",
       "560     662       1     182      98          1           4              1   \n",
       "\n",
       "     QUALIFICATION_ID                  DOB  DATE_AVAILABLE  STUDY_DATE  \\\n",
       "0                   5           1970-01-30               1  2005-11-18   \n",
       "1                   5           1966-08-20               1  2005-06-01   \n",
       "2                   5           1958-09-15               1  2005-06-01   \n",
       "3                   5           1981-03-11               1  2005-06-23   \n",
       "4                   5           1950-04-24               1  2005-06-24   \n",
       "..                ...                  ...             ...         ...   \n",
       "556                 4           1959-03-08               1  2006-11-27   \n",
       "557                 2           1956-07-09               1  2006-12-01   \n",
       "558                 5           1963-12-05               1  2006-12-01   \n",
       "559                 5           1960-09-14               1  2006-12-04   \n",
       "560                 3  1965-03-08 00:00:00               1  2006-12-04   \n",
       "\n",
       "           AGE  \n",
       "0    35.800137  \n",
       "1    38.781656  \n",
       "2    46.710472  \n",
       "3    24.284736  \n",
       "4    55.167693  \n",
       "..         ...  \n",
       "556  47.723477  \n",
       "557  50.395619  \n",
       "558  42.989733  \n",
       "559  46.220397  \n",
       "560  41.741273  \n",
       "\n",
       "[561 rows x 12 columns]"
      ]
     },
     "execution_count": 15,
     "metadata": {},
     "output_type": "execute_result"
    }
   ],
   "source": [
    "metadata_df = pd.read_csv('../dataset/data/IXI_metadata_for_process.csv')\n",
    "metadata_df"
   ]
  },
  {
   "cell_type": "code",
   "execution_count": 16,
   "metadata": {},
   "outputs": [
    {
     "data": {
      "text/html": [
       "<div>\n",
       "<style scoped>\n",
       "    .dataframe tbody tr th:only-of-type {\n",
       "        vertical-align: middle;\n",
       "    }\n",
       "\n",
       "    .dataframe tbody tr th {\n",
       "        vertical-align: top;\n",
       "    }\n",
       "\n",
       "    .dataframe thead th {\n",
       "        text-align: right;\n",
       "    }\n",
       "</style>\n",
       "<table border=\"1\" class=\"dataframe\">\n",
       "  <thead>\n",
       "    <tr style=\"text-align: right;\">\n",
       "      <th></th>\n",
       "      <th>IXI_ID</th>\n",
       "      <th>SEX_ID</th>\n",
       "      <th>HEIGHT</th>\n",
       "      <th>WEIGHT</th>\n",
       "      <th>ETHNIC_ID</th>\n",
       "      <th>MARITAL_ID</th>\n",
       "      <th>OCCUPATION_ID</th>\n",
       "      <th>QUALIFICATION_ID</th>\n",
       "      <th>DOB</th>\n",
       "      <th>DATE_AVAILABLE</th>\n",
       "      <th>STUDY_DATE</th>\n",
       "      <th>AGE</th>\n",
       "    </tr>\n",
       "  </thead>\n",
       "  <tbody>\n",
       "    <tr>\n",
       "      <th>0</th>\n",
       "      <td>2</td>\n",
       "      <td>2</td>\n",
       "      <td>164</td>\n",
       "      <td>58</td>\n",
       "      <td>1</td>\n",
       "      <td>4</td>\n",
       "      <td>1</td>\n",
       "      <td>5</td>\n",
       "      <td>1970-01-30</td>\n",
       "      <td>1</td>\n",
       "      <td>2005-11-18</td>\n",
       "      <td>35.800137</td>\n",
       "    </tr>\n",
       "    <tr>\n",
       "      <th>1</th>\n",
       "      <td>12</td>\n",
       "      <td>1</td>\n",
       "      <td>175</td>\n",
       "      <td>70</td>\n",
       "      <td>1</td>\n",
       "      <td>2</td>\n",
       "      <td>1</td>\n",
       "      <td>5</td>\n",
       "      <td>1966-08-20</td>\n",
       "      <td>1</td>\n",
       "      <td>2005-06-01</td>\n",
       "      <td>38.781656</td>\n",
       "    </tr>\n",
       "    <tr>\n",
       "      <th>2</th>\n",
       "      <td>13</td>\n",
       "      <td>1</td>\n",
       "      <td>182</td>\n",
       "      <td>70</td>\n",
       "      <td>1</td>\n",
       "      <td>2</td>\n",
       "      <td>1</td>\n",
       "      <td>5</td>\n",
       "      <td>1958-09-15</td>\n",
       "      <td>1</td>\n",
       "      <td>2005-06-01</td>\n",
       "      <td>46.710472</td>\n",
       "    </tr>\n",
       "    <tr>\n",
       "      <th>3</th>\n",
       "      <td>15</td>\n",
       "      <td>1</td>\n",
       "      <td>181</td>\n",
       "      <td>90</td>\n",
       "      <td>2</td>\n",
       "      <td>1</td>\n",
       "      <td>6</td>\n",
       "      <td>5</td>\n",
       "      <td>1981-03-11</td>\n",
       "      <td>1</td>\n",
       "      <td>2005-06-23</td>\n",
       "      <td>24.284736</td>\n",
       "    </tr>\n",
       "    <tr>\n",
       "      <th>4</th>\n",
       "      <td>16</td>\n",
       "      <td>1</td>\n",
       "      <td>172</td>\n",
       "      <td>63</td>\n",
       "      <td>1</td>\n",
       "      <td>2</td>\n",
       "      <td>1</td>\n",
       "      <td>5</td>\n",
       "      <td>1950-04-24</td>\n",
       "      <td>1</td>\n",
       "      <td>2005-06-24</td>\n",
       "      <td>55.167693</td>\n",
       "    </tr>\n",
       "    <tr>\n",
       "      <th>...</th>\n",
       "      <td>...</td>\n",
       "      <td>...</td>\n",
       "      <td>...</td>\n",
       "      <td>...</td>\n",
       "      <td>...</td>\n",
       "      <td>...</td>\n",
       "      <td>...</td>\n",
       "      <td>...</td>\n",
       "      <td>...</td>\n",
       "      <td>...</td>\n",
       "      <td>...</td>\n",
       "      <td>...</td>\n",
       "    </tr>\n",
       "    <tr>\n",
       "      <th>556</th>\n",
       "      <td>648</td>\n",
       "      <td>1</td>\n",
       "      <td>193</td>\n",
       "      <td>120</td>\n",
       "      <td>1</td>\n",
       "      <td>1</td>\n",
       "      <td>6</td>\n",
       "      <td>4</td>\n",
       "      <td>1959-03-08</td>\n",
       "      <td>1</td>\n",
       "      <td>2006-11-27</td>\n",
       "      <td>47.723477</td>\n",
       "    </tr>\n",
       "    <tr>\n",
       "      <th>557</th>\n",
       "      <td>651</td>\n",
       "      <td>1</td>\n",
       "      <td>175</td>\n",
       "      <td>61</td>\n",
       "      <td>3</td>\n",
       "      <td>2</td>\n",
       "      <td>8</td>\n",
       "      <td>2</td>\n",
       "      <td>1956-07-09</td>\n",
       "      <td>1</td>\n",
       "      <td>2006-12-01</td>\n",
       "      <td>50.395619</td>\n",
       "    </tr>\n",
       "    <tr>\n",
       "      <th>558</th>\n",
       "      <td>652</td>\n",
       "      <td>1</td>\n",
       "      <td>163</td>\n",
       "      <td>80</td>\n",
       "      <td>1</td>\n",
       "      <td>1</td>\n",
       "      <td>1</td>\n",
       "      <td>5</td>\n",
       "      <td>1963-12-05</td>\n",
       "      <td>1</td>\n",
       "      <td>2006-12-01</td>\n",
       "      <td>42.989733</td>\n",
       "    </tr>\n",
       "    <tr>\n",
       "      <th>559</th>\n",
       "      <td>653</td>\n",
       "      <td>1</td>\n",
       "      <td>172</td>\n",
       "      <td>100</td>\n",
       "      <td>1</td>\n",
       "      <td>3</td>\n",
       "      <td>1</td>\n",
       "      <td>5</td>\n",
       "      <td>1960-09-14</td>\n",
       "      <td>1</td>\n",
       "      <td>2006-12-04</td>\n",
       "      <td>46.220397</td>\n",
       "    </tr>\n",
       "    <tr>\n",
       "      <th>560</th>\n",
       "      <td>662</td>\n",
       "      <td>1</td>\n",
       "      <td>182</td>\n",
       "      <td>98</td>\n",
       "      <td>1</td>\n",
       "      <td>4</td>\n",
       "      <td>1</td>\n",
       "      <td>3</td>\n",
       "      <td>1965-03-08 00:00:00</td>\n",
       "      <td>1</td>\n",
       "      <td>2006-12-04</td>\n",
       "      <td>41.741273</td>\n",
       "    </tr>\n",
       "  </tbody>\n",
       "</table>\n",
       "<p>557 rows × 12 columns</p>\n",
       "</div>"
      ],
      "text/plain": [
       "     IXI_ID  SEX_ID  HEIGHT  WEIGHT  ETHNIC_ID  MARITAL_ID  OCCUPATION_ID  \\\n",
       "0         2       2     164      58          1           4              1   \n",
       "1        12       1     175      70          1           2              1   \n",
       "2        13       1     182      70          1           2              1   \n",
       "3        15       1     181      90          2           1              6   \n",
       "4        16       1     172      63          1           2              1   \n",
       "..      ...     ...     ...     ...        ...         ...            ...   \n",
       "556     648       1     193     120          1           1              6   \n",
       "557     651       1     175      61          3           2              8   \n",
       "558     652       1     163      80          1           1              1   \n",
       "559     653       1     172     100          1           3              1   \n",
       "560     662       1     182      98          1           4              1   \n",
       "\n",
       "     QUALIFICATION_ID                  DOB  DATE_AVAILABLE  STUDY_DATE  \\\n",
       "0                   5           1970-01-30               1  2005-11-18   \n",
       "1                   5           1966-08-20               1  2005-06-01   \n",
       "2                   5           1958-09-15               1  2005-06-01   \n",
       "3                   5           1981-03-11               1  2005-06-23   \n",
       "4                   5           1950-04-24               1  2005-06-24   \n",
       "..                ...                  ...             ...         ...   \n",
       "556                 4           1959-03-08               1  2006-11-27   \n",
       "557                 2           1956-07-09               1  2006-12-01   \n",
       "558                 5           1963-12-05               1  2006-12-01   \n",
       "559                 5           1960-09-14               1  2006-12-04   \n",
       "560                 3  1965-03-08 00:00:00               1  2006-12-04   \n",
       "\n",
       "           AGE  \n",
       "0    35.800137  \n",
       "1    38.781656  \n",
       "2    46.710472  \n",
       "3    24.284736  \n",
       "4    55.167693  \n",
       "..         ...  \n",
       "556  47.723477  \n",
       "557  50.395619  \n",
       "558  42.989733  \n",
       "559  46.220397  \n",
       "560  41.741273  \n",
       "\n",
       "[557 rows x 12 columns]"
      ]
     },
     "execution_count": 16,
     "metadata": {},
     "output_type": "execute_result"
    }
   ],
   "source": [
    "#micanje IXI_ID 430, 433, 462 i 463 iz metapodataka\n",
    "metadata_df = metadata_df[metadata_df['IXI_ID'] != 430]\n",
    "metadata_df = metadata_df[metadata_df['IXI_ID'] != 433]\n",
    "metadata_df = metadata_df[metadata_df['IXI_ID'] != 462]\n",
    "metadata_df = metadata_df[metadata_df['IXI_ID'] != 463]\n",
    "\n",
    "metadata_df"
   ]
  },
  {
   "cell_type": "markdown",
   "metadata": {},
   "source": [
    "## 1. Analiza metapodataka (ispitanika za treniranje/testiranje budućih dubokih modela - 15 ispitanika o kojima nemamo podataka)"
   ]
  },
  {
   "cell_type": "code",
   "execution_count": 17,
   "metadata": {},
   "outputs": [],
   "source": [
    "metadata_df.to_csv('../dataset/data/IXI_metadata_final.csv', index=False)"
   ]
  },
  {
   "cell_type": "markdown",
   "metadata": {},
   "source": [
    "Kao što smo već vidjeli u prethodnoj analizi, dostupno nam je 576 (577 - IXI014 ispitanik s premalom rezolucijom) T1 i T2 skenova, a imamo samo 561 zapisa u metapodacima. To znači da o 15 ispitanika nemamo nikakve informacije.\n",
    "\n",
    "Također iz analize ćemo izbaciti sljedeće ispitanike: IXI430, IXI433, IXI462 i IXI463 jer za njih nije uspješno provedena ekstrakcija, registracija i uzimanje aksijalnog 2d presjeka. Ovim ostaje 557 zapisa u tablici.\n",
    "\n",
    "U nastavku je napravljena eksplorativna analiza o dostupnim informacijama."
   ]
  },
  {
   "cell_type": "markdown",
   "metadata": {},
   "source": [
    "Prisjetimo se:\n",
    "\n",
    "Među ispitanicima postoje sljedeće etničke skupine:\n",
    "- 1 - White\n",
    "- 4 - Black or Black British\n",
    "- 3 - Asian or Asian British\n",
    "- 5 - Chinese\n",
    "- 6 - Other\n",
    "\n",
    "Među ispitanicima postoje sljedeći bračni statusi:\n",
    "- 1 - Single\n",
    "- 2 - Married\n",
    "- 4 - Divorced or Separated\n",
    "- 3 - Cohabiting\n",
    "- 5 - Widowed\n",
    "\n",
    "Među ispitanicima postoje sljedeći zanimanja:\n",
    "- 1 - Go out to full time employment\n",
    "- 2 - Go out to part time employment (<25hrs)\n",
    "- 3 - Study at college or university\n",
    "- 4 - Full-time housework\n",
    "- 5 - Retired\n",
    "- 6 - Unemployed\n",
    "- 7 - Work for pay at home\n",
    "- 8 - Other\n",
    "\n",
    "Među ispitanicima postoje sljedeće kvalifikacije:\n",
    "- 1 - No qualifications\n",
    "- 2 - O-levels, GCSEs, or CSEs\n",
    "- 3 - A-levels\n",
    "- 4 - Further education e.g. City & Guilds / NVQs\n",
    "- 5 - University or Polytechnic degree"
   ]
  },
  {
   "cell_type": "code",
   "execution_count": 18,
   "metadata": {},
   "outputs": [
    {
     "data": {
      "text/html": [
       "<div>\n",
       "<style scoped>\n",
       "    .dataframe tbody tr th:only-of-type {\n",
       "        vertical-align: middle;\n",
       "    }\n",
       "\n",
       "    .dataframe tbody tr th {\n",
       "        vertical-align: top;\n",
       "    }\n",
       "\n",
       "    .dataframe thead th {\n",
       "        text-align: right;\n",
       "    }\n",
       "</style>\n",
       "<table border=\"1\" class=\"dataframe\">\n",
       "  <thead>\n",
       "    <tr style=\"text-align: right;\">\n",
       "      <th></th>\n",
       "      <th>IXI_ID</th>\n",
       "      <th>SEX_ID</th>\n",
       "      <th>HEIGHT</th>\n",
       "      <th>WEIGHT</th>\n",
       "      <th>ETHNIC_ID</th>\n",
       "      <th>MARITAL_ID</th>\n",
       "      <th>OCCUPATION_ID</th>\n",
       "      <th>QUALIFICATION_ID</th>\n",
       "      <th>DOB</th>\n",
       "      <th>DATE_AVAILABLE</th>\n",
       "      <th>STUDY_DATE</th>\n",
       "      <th>AGE</th>\n",
       "    </tr>\n",
       "  </thead>\n",
       "  <tbody>\n",
       "    <tr>\n",
       "      <th>0</th>\n",
       "      <td>2</td>\n",
       "      <td>2</td>\n",
       "      <td>164</td>\n",
       "      <td>58</td>\n",
       "      <td>1</td>\n",
       "      <td>4</td>\n",
       "      <td>1</td>\n",
       "      <td>5</td>\n",
       "      <td>1970-01-30</td>\n",
       "      <td>1</td>\n",
       "      <td>2005-11-18</td>\n",
       "      <td>35.800137</td>\n",
       "    </tr>\n",
       "    <tr>\n",
       "      <th>1</th>\n",
       "      <td>12</td>\n",
       "      <td>1</td>\n",
       "      <td>175</td>\n",
       "      <td>70</td>\n",
       "      <td>1</td>\n",
       "      <td>2</td>\n",
       "      <td>1</td>\n",
       "      <td>5</td>\n",
       "      <td>1966-08-20</td>\n",
       "      <td>1</td>\n",
       "      <td>2005-06-01</td>\n",
       "      <td>38.781656</td>\n",
       "    </tr>\n",
       "    <tr>\n",
       "      <th>2</th>\n",
       "      <td>13</td>\n",
       "      <td>1</td>\n",
       "      <td>182</td>\n",
       "      <td>70</td>\n",
       "      <td>1</td>\n",
       "      <td>2</td>\n",
       "      <td>1</td>\n",
       "      <td>5</td>\n",
       "      <td>1958-09-15</td>\n",
       "      <td>1</td>\n",
       "      <td>2005-06-01</td>\n",
       "      <td>46.710472</td>\n",
       "    </tr>\n",
       "    <tr>\n",
       "      <th>3</th>\n",
       "      <td>15</td>\n",
       "      <td>1</td>\n",
       "      <td>181</td>\n",
       "      <td>90</td>\n",
       "      <td>2</td>\n",
       "      <td>1</td>\n",
       "      <td>6</td>\n",
       "      <td>5</td>\n",
       "      <td>1981-03-11</td>\n",
       "      <td>1</td>\n",
       "      <td>2005-06-23</td>\n",
       "      <td>24.284736</td>\n",
       "    </tr>\n",
       "    <tr>\n",
       "      <th>4</th>\n",
       "      <td>16</td>\n",
       "      <td>1</td>\n",
       "      <td>172</td>\n",
       "      <td>63</td>\n",
       "      <td>1</td>\n",
       "      <td>2</td>\n",
       "      <td>1</td>\n",
       "      <td>5</td>\n",
       "      <td>1950-04-24</td>\n",
       "      <td>1</td>\n",
       "      <td>2005-06-24</td>\n",
       "      <td>55.167693</td>\n",
       "    </tr>\n",
       "    <tr>\n",
       "      <th>...</th>\n",
       "      <td>...</td>\n",
       "      <td>...</td>\n",
       "      <td>...</td>\n",
       "      <td>...</td>\n",
       "      <td>...</td>\n",
       "      <td>...</td>\n",
       "      <td>...</td>\n",
       "      <td>...</td>\n",
       "      <td>...</td>\n",
       "      <td>...</td>\n",
       "      <td>...</td>\n",
       "      <td>...</td>\n",
       "    </tr>\n",
       "    <tr>\n",
       "      <th>552</th>\n",
       "      <td>648</td>\n",
       "      <td>1</td>\n",
       "      <td>193</td>\n",
       "      <td>120</td>\n",
       "      <td>1</td>\n",
       "      <td>1</td>\n",
       "      <td>6</td>\n",
       "      <td>4</td>\n",
       "      <td>1959-03-08</td>\n",
       "      <td>1</td>\n",
       "      <td>2006-11-27</td>\n",
       "      <td>47.723477</td>\n",
       "    </tr>\n",
       "    <tr>\n",
       "      <th>553</th>\n",
       "      <td>651</td>\n",
       "      <td>1</td>\n",
       "      <td>175</td>\n",
       "      <td>61</td>\n",
       "      <td>3</td>\n",
       "      <td>2</td>\n",
       "      <td>8</td>\n",
       "      <td>2</td>\n",
       "      <td>1956-07-09</td>\n",
       "      <td>1</td>\n",
       "      <td>2006-12-01</td>\n",
       "      <td>50.395619</td>\n",
       "    </tr>\n",
       "    <tr>\n",
       "      <th>554</th>\n",
       "      <td>652</td>\n",
       "      <td>1</td>\n",
       "      <td>163</td>\n",
       "      <td>80</td>\n",
       "      <td>1</td>\n",
       "      <td>1</td>\n",
       "      <td>1</td>\n",
       "      <td>5</td>\n",
       "      <td>1963-12-05</td>\n",
       "      <td>1</td>\n",
       "      <td>2006-12-01</td>\n",
       "      <td>42.989733</td>\n",
       "    </tr>\n",
       "    <tr>\n",
       "      <th>555</th>\n",
       "      <td>653</td>\n",
       "      <td>1</td>\n",
       "      <td>172</td>\n",
       "      <td>100</td>\n",
       "      <td>1</td>\n",
       "      <td>3</td>\n",
       "      <td>1</td>\n",
       "      <td>5</td>\n",
       "      <td>1960-09-14</td>\n",
       "      <td>1</td>\n",
       "      <td>2006-12-04</td>\n",
       "      <td>46.220397</td>\n",
       "    </tr>\n",
       "    <tr>\n",
       "      <th>556</th>\n",
       "      <td>662</td>\n",
       "      <td>1</td>\n",
       "      <td>182</td>\n",
       "      <td>98</td>\n",
       "      <td>1</td>\n",
       "      <td>4</td>\n",
       "      <td>1</td>\n",
       "      <td>3</td>\n",
       "      <td>1965-03-08 00:00:00</td>\n",
       "      <td>1</td>\n",
       "      <td>2006-12-04</td>\n",
       "      <td>41.741273</td>\n",
       "    </tr>\n",
       "  </tbody>\n",
       "</table>\n",
       "<p>557 rows × 12 columns</p>\n",
       "</div>"
      ],
      "text/plain": [
       "     IXI_ID  SEX_ID  HEIGHT  WEIGHT  ETHNIC_ID  MARITAL_ID  OCCUPATION_ID  \\\n",
       "0         2       2     164      58          1           4              1   \n",
       "1        12       1     175      70          1           2              1   \n",
       "2        13       1     182      70          1           2              1   \n",
       "3        15       1     181      90          2           1              6   \n",
       "4        16       1     172      63          1           2              1   \n",
       "..      ...     ...     ...     ...        ...         ...            ...   \n",
       "552     648       1     193     120          1           1              6   \n",
       "553     651       1     175      61          3           2              8   \n",
       "554     652       1     163      80          1           1              1   \n",
       "555     653       1     172     100          1           3              1   \n",
       "556     662       1     182      98          1           4              1   \n",
       "\n",
       "     QUALIFICATION_ID                  DOB  DATE_AVAILABLE  STUDY_DATE  \\\n",
       "0                   5           1970-01-30               1  2005-11-18   \n",
       "1                   5           1966-08-20               1  2005-06-01   \n",
       "2                   5           1958-09-15               1  2005-06-01   \n",
       "3                   5           1981-03-11               1  2005-06-23   \n",
       "4                   5           1950-04-24               1  2005-06-24   \n",
       "..                ...                  ...             ...         ...   \n",
       "552                 4           1959-03-08               1  2006-11-27   \n",
       "553                 2           1956-07-09               1  2006-12-01   \n",
       "554                 5           1963-12-05               1  2006-12-01   \n",
       "555                 5           1960-09-14               1  2006-12-04   \n",
       "556                 3  1965-03-08 00:00:00               1  2006-12-04   \n",
       "\n",
       "           AGE  \n",
       "0    35.800137  \n",
       "1    38.781656  \n",
       "2    46.710472  \n",
       "3    24.284736  \n",
       "4    55.167693  \n",
       "..         ...  \n",
       "552  47.723477  \n",
       "553  50.395619  \n",
       "554  42.989733  \n",
       "555  46.220397  \n",
       "556  41.741273  \n",
       "\n",
       "[557 rows x 12 columns]"
      ]
     },
     "execution_count": 18,
     "metadata": {},
     "output_type": "execute_result"
    }
   ],
   "source": [
    "metadata_df = pd.read_csv('../dataset/data/IXI_metadata_final.csv')\n",
    "metadata_df"
   ]
  },
  {
   "cell_type": "code",
   "execution_count": 19,
   "metadata": {},
   "outputs": [],
   "source": [
    "metadata_df[\"SEX_ID\"] = metadata_df[\"SEX_ID\"].replace({1: \"Muško\", 2: \"Žensko\", 0: \"Nepoznato\"})\n",
    "metadata_df[\"ETHNIC_ID\"] = metadata_df[\"ETHNIC_ID\"].replace({1: \"White\", 4: \"Black/Black British\", 3: \"Asian/Asian British\", 5: \"Chinese\", 6: \"Other\", 2: \"Unknown\", 0: \"Unknown\"})\n",
    "metadata_df[\"MARITAL_ID\"] = metadata_df[\"MARITAL_ID\"].replace({1: \"Single\", 2: \"Married\", 4: \"Divorced/Separated\", 3: \"Cohabiting\", 5: \"Widowed\", 0: \"Unknown\"})\n",
    "metadata_df[\"OCCUPATION_ID\"] = metadata_df[\"OCCUPATION_ID\"].replace({1: \"Full time employment\", 2: \"Part time employment\", 3: \"College/university\", 4: \"Housework\", 5: \"Retired\", 6: \"Unemployed\", 7: \"Work from home\", 8: \"Other\", 0: \"Unknown\"})\n",
    "metadata_df[\"QUALIFICATION_ID\"] = metadata_df[\"QUALIFICATION_ID\"].replace({1: \"None\", 2: \"O-level/GCSE/CSE\", 3: \"A-level\", 4: \"Further education/NVQ\", 5: \"University or Polytechnic degree\", 0: \"Unknown\"})"
   ]
  },
  {
   "cell_type": "code",
   "execution_count": 20,
   "metadata": {},
   "outputs": [
    {
     "data": {
      "application/vnd.plotly.v1+json": {
       "config": {
        "plotlyServerURL": "https://plot.ly"
       },
       "data": [
        {
         "domain": {
          "x": [
           0,
           1
          ],
          "y": [
           0,
           1
          ]
         },
         "hole": 0.3,
         "hovertemplate": "SEX_ID=%{label}<extra></extra>",
         "labels": [
          "Žensko",
          "Muško",
          "Muško",
          "Muško",
          "Muško",
          "Žensko",
          "Muško",
          "Muško",
          "Žensko",
          "Muško",
          "Žensko",
          "Žensko",
          "Žensko",
          "Žensko",
          "Muško",
          "Muško",
          "Žensko",
          "Muško",
          "Muško",
          "Muško",
          "Žensko",
          "Žensko",
          "Muško",
          "Žensko",
          "Muško",
          "Muško",
          "Žensko",
          "Muško",
          "Žensko",
          "Žensko",
          "Žensko",
          "Žensko",
          "Žensko",
          "Muško",
          "Muško",
          "Muško",
          "Žensko",
          "Žensko",
          "Muško",
          "Žensko",
          "Žensko",
          "Muško",
          "Žensko",
          "Muško",
          "Muško",
          "Muško",
          "Žensko",
          "Muško",
          "Muško",
          "Muško",
          "Žensko",
          "Žensko",
          "Muško",
          "Žensko",
          "Žensko",
          "Žensko",
          "Žensko",
          "Muško",
          "Žensko",
          "Žensko",
          "Žensko",
          "Muško",
          "Žensko",
          "Žensko",
          "Žensko",
          "Žensko",
          "Muško",
          "Žensko",
          "Žensko",
          "Muško",
          "Žensko",
          "Žensko",
          "Muško",
          "Muško",
          "Muško",
          "Muško",
          "Muško",
          "Žensko",
          "Muško",
          "Žensko",
          "Muško",
          "Muško",
          "Žensko",
          "Muško",
          "Žensko",
          "Muško",
          "Muško",
          "Muško",
          "Muško",
          "Žensko",
          "Muško",
          "Žensko",
          "Muško",
          "Muško",
          "Muško",
          "Žensko",
          "Žensko",
          "Muško",
          "Žensko",
          "Žensko",
          "Žensko",
          "Muško",
          "Žensko",
          "Žensko",
          "Muško",
          "Žensko",
          "Žensko",
          "Muško",
          "Muško",
          "Žensko",
          "Muško",
          "Muško",
          "Muško",
          "Muško",
          "Muško",
          "Žensko",
          "Muško",
          "Žensko",
          "Žensko",
          "Žensko",
          "Žensko",
          "Žensko",
          "Muško",
          "Muško",
          "Žensko",
          "Žensko",
          "Muško",
          "Muško",
          "Žensko",
          "Žensko",
          "Žensko",
          "Žensko",
          "Žensko",
          "Žensko",
          "Žensko",
          "Muško",
          "Muško",
          "Muško",
          "Muško",
          "Žensko",
          "Žensko",
          "Muško",
          "Žensko",
          "Žensko",
          "Muško",
          "Žensko",
          "Žensko",
          "Muško",
          "Muško",
          "Muško",
          "Muško",
          "Muško",
          "Žensko",
          "Muško",
          "Muško",
          "Muško",
          "Muško",
          "Žensko",
          "Žensko",
          "Žensko",
          "Muško",
          "Muško",
          "Žensko",
          "Žensko",
          "Muško",
          "Žensko",
          "Žensko",
          "Muško",
          "Muško",
          "Žensko",
          "Žensko",
          "Muško",
          "Žensko",
          "Muško",
          "Žensko",
          "Žensko",
          "Muško",
          "Muško",
          "Muško",
          "Muško",
          "Muško",
          "Žensko",
          "Žensko",
          "Muško",
          "Žensko",
          "Žensko",
          "Žensko",
          "Muško",
          "Žensko",
          "Muško",
          "Žensko",
          "Žensko",
          "Žensko",
          "Žensko",
          "Žensko",
          "Žensko",
          "Žensko",
          "Žensko",
          "Žensko",
          "Muško",
          "Muško",
          "Žensko",
          "Žensko",
          "Žensko",
          "Muško",
          "Muško",
          "Muško",
          "Žensko",
          "Žensko",
          "Muško",
          "Žensko",
          "Muško",
          "Žensko",
          "Žensko",
          "Žensko",
          "Žensko",
          "Žensko",
          "Žensko",
          "Muško",
          "Muško",
          "Žensko",
          "Žensko",
          "Muško",
          "Muško",
          "Žensko",
          "Žensko",
          "Žensko",
          "Žensko",
          "Žensko",
          "Muško",
          "Žensko",
          "Žensko",
          "Žensko",
          "Žensko",
          "Muško",
          "Muško",
          "Žensko",
          "Muško",
          "Muško",
          "Žensko",
          "Muško",
          "Žensko",
          "Muško",
          "Muško",
          "Žensko",
          "Žensko",
          "Muško",
          "Žensko",
          "Žensko",
          "Žensko",
          "Žensko",
          "Žensko",
          "Žensko",
          "Žensko",
          "Muško",
          "Žensko",
          "Žensko",
          "Muško",
          "Muško",
          "Muško",
          "Žensko",
          "Žensko",
          "Žensko",
          "Muško",
          "Muško",
          "Žensko",
          "Muško",
          "Žensko",
          "Muško",
          "Muško",
          "Žensko",
          "Muško",
          "Muško",
          "Žensko",
          "Muško",
          "Žensko",
          "Žensko",
          "Žensko",
          "Muško",
          "Žensko",
          "Žensko",
          "Muško",
          "Nepoznato",
          "Muško",
          "Muško",
          "Muško",
          "Žensko",
          "Žensko",
          "Muško",
          "Muško",
          "Žensko",
          "Muško",
          "Muško",
          "Muško",
          "Žensko",
          "Muško",
          "Žensko",
          "Žensko",
          "Muško",
          "Žensko",
          "Žensko",
          "Žensko",
          "Žensko",
          "Žensko",
          "Žensko",
          "Žensko",
          "Žensko",
          "Žensko",
          "Žensko",
          "Žensko",
          "Žensko",
          "Žensko",
          "Žensko",
          "Žensko",
          "Muško",
          "Žensko",
          "Žensko",
          "Žensko",
          "Žensko",
          "Žensko",
          "Žensko",
          "Žensko",
          "Žensko",
          "Žensko",
          "Žensko",
          "Žensko",
          "Žensko",
          "Žensko",
          "Žensko",
          "Muško",
          "Žensko",
          "Žensko",
          "Muško",
          "Žensko",
          "Žensko",
          "Muško",
          "Muško",
          "Žensko",
          "Žensko",
          "Žensko",
          "Žensko",
          "Žensko",
          "Žensko",
          "Žensko",
          "Žensko",
          "Muško",
          "Žensko",
          "Žensko",
          "Žensko",
          "Žensko",
          "Žensko",
          "Žensko",
          "Žensko",
          "Žensko",
          "Žensko",
          "Žensko",
          "Žensko",
          "Žensko",
          "Muško",
          "Žensko",
          "Žensko",
          "Žensko",
          "Muško",
          "Muško",
          "Muško",
          "Žensko",
          "Žensko",
          "Muško",
          "Žensko",
          "Žensko",
          "Žensko",
          "Muško",
          "Žensko",
          "Muško",
          "Muško",
          "Žensko",
          "Muško",
          "Žensko",
          "Muško",
          "Žensko",
          "Muško",
          "Muško",
          "Žensko",
          "Muško",
          "Žensko",
          "Žensko",
          "Muško",
          "Muško",
          "Muško",
          "Žensko",
          "Žensko",
          "Muško",
          "Muško",
          "Žensko",
          "Žensko",
          "Muško",
          "Žensko",
          "Žensko",
          "Žensko",
          "Žensko",
          "Muško",
          "Žensko",
          "Muško",
          "Muško",
          "Muško",
          "Muško",
          "Žensko",
          "Žensko",
          "Žensko",
          "Žensko",
          "Muško",
          "Žensko",
          "Žensko",
          "Muško",
          "Žensko",
          "Žensko",
          "Muško",
          "Žensko",
          "Žensko",
          "Muško",
          "Žensko",
          "Žensko",
          "Žensko",
          "Žensko",
          "Žensko",
          "Muško",
          "Muško",
          "Žensko",
          "Žensko",
          "Muško",
          "Žensko",
          "Muško",
          "Žensko",
          "Žensko",
          "Muško",
          "Muško",
          "Žensko",
          "Žensko",
          "Muško",
          "Žensko",
          "Žensko",
          "Žensko",
          "Muško",
          "Žensko",
          "Žensko",
          "Muško",
          "Žensko",
          "Muško",
          "Žensko",
          "Žensko",
          "Žensko",
          "Žensko",
          "Muško",
          "Žensko",
          "Muško",
          "Muško",
          "Muško",
          "Muško",
          "Muško",
          "Muško",
          "Žensko",
          "Žensko",
          "Žensko",
          "Žensko",
          "Muško",
          "Žensko",
          "Žensko",
          "Muško",
          "Žensko",
          "Žensko",
          "Muško",
          "Žensko",
          "Žensko",
          "Žensko",
          "Žensko",
          "Žensko",
          "Muško",
          "Muško",
          "Žensko",
          "Muško",
          "Žensko",
          "Žensko",
          "Muško",
          "Žensko",
          "Žensko",
          "Žensko",
          "Muško",
          "Žensko",
          "Žensko",
          "Žensko",
          "Muško",
          "Žensko",
          "Žensko",
          "Žensko",
          "Žensko",
          "Žensko",
          "Žensko",
          "Žensko",
          "Muško",
          "Muško",
          "Muško",
          "Muško",
          "Muško",
          "Muško",
          "Muško",
          "Muško",
          "Žensko",
          "Muško",
          "Žensko",
          "Muško",
          "Žensko",
          "Muško",
          "Žensko",
          "Muško",
          "Muško",
          "Muško",
          "Muško",
          "Žensko",
          "Žensko",
          "Muško",
          "Muško",
          "Muško",
          "Muško",
          "Muško",
          "Muško",
          "Muško",
          "Muško",
          "Žensko",
          "Muško",
          "Muško",
          "Muško",
          "Muško",
          "Muško",
          "Muško",
          "Muško",
          "Muško",
          "Muško",
          "Muško",
          "Muško",
          "Muško",
          "Muško",
          "Muško",
          "Muško",
          "Muško",
          "Muško",
          "Muško",
          "Muško",
          "Muško",
          "Muško",
          "Muško",
          "Muško",
          "Žensko",
          "Muško",
          "Muško",
          "Muško",
          "Muško",
          "Muško"
         ],
         "legendgroup": "",
         "name": "",
         "showlegend": true,
         "type": "pie"
        }
       ],
       "layout": {
        "height": 600,
        "legend": {
         "tracegroupgap": 0
        },
        "template": {
         "data": {
          "bar": [
           {
            "error_x": {
             "color": "#2a3f5f"
            },
            "error_y": {
             "color": "#2a3f5f"
            },
            "marker": {
             "line": {
              "color": "#E5ECF6",
              "width": 0.5
             },
             "pattern": {
              "fillmode": "overlay",
              "size": 10,
              "solidity": 0.2
             }
            },
            "type": "bar"
           }
          ],
          "barpolar": [
           {
            "marker": {
             "line": {
              "color": "#E5ECF6",
              "width": 0.5
             },
             "pattern": {
              "fillmode": "overlay",
              "size": 10,
              "solidity": 0.2
             }
            },
            "type": "barpolar"
           }
          ],
          "carpet": [
           {
            "aaxis": {
             "endlinecolor": "#2a3f5f",
             "gridcolor": "white",
             "linecolor": "white",
             "minorgridcolor": "white",
             "startlinecolor": "#2a3f5f"
            },
            "baxis": {
             "endlinecolor": "#2a3f5f",
             "gridcolor": "white",
             "linecolor": "white",
             "minorgridcolor": "white",
             "startlinecolor": "#2a3f5f"
            },
            "type": "carpet"
           }
          ],
          "choropleth": [
           {
            "colorbar": {
             "outlinewidth": 0,
             "ticks": ""
            },
            "type": "choropleth"
           }
          ],
          "contour": [
           {
            "colorbar": {
             "outlinewidth": 0,
             "ticks": ""
            },
            "colorscale": [
             [
              0,
              "#0d0887"
             ],
             [
              0.1111111111111111,
              "#46039f"
             ],
             [
              0.2222222222222222,
              "#7201a8"
             ],
             [
              0.3333333333333333,
              "#9c179e"
             ],
             [
              0.4444444444444444,
              "#bd3786"
             ],
             [
              0.5555555555555556,
              "#d8576b"
             ],
             [
              0.6666666666666666,
              "#ed7953"
             ],
             [
              0.7777777777777778,
              "#fb9f3a"
             ],
             [
              0.8888888888888888,
              "#fdca26"
             ],
             [
              1,
              "#f0f921"
             ]
            ],
            "type": "contour"
           }
          ],
          "contourcarpet": [
           {
            "colorbar": {
             "outlinewidth": 0,
             "ticks": ""
            },
            "type": "contourcarpet"
           }
          ],
          "heatmap": [
           {
            "colorbar": {
             "outlinewidth": 0,
             "ticks": ""
            },
            "colorscale": [
             [
              0,
              "#0d0887"
             ],
             [
              0.1111111111111111,
              "#46039f"
             ],
             [
              0.2222222222222222,
              "#7201a8"
             ],
             [
              0.3333333333333333,
              "#9c179e"
             ],
             [
              0.4444444444444444,
              "#bd3786"
             ],
             [
              0.5555555555555556,
              "#d8576b"
             ],
             [
              0.6666666666666666,
              "#ed7953"
             ],
             [
              0.7777777777777778,
              "#fb9f3a"
             ],
             [
              0.8888888888888888,
              "#fdca26"
             ],
             [
              1,
              "#f0f921"
             ]
            ],
            "type": "heatmap"
           }
          ],
          "heatmapgl": [
           {
            "colorbar": {
             "outlinewidth": 0,
             "ticks": ""
            },
            "colorscale": [
             [
              0,
              "#0d0887"
             ],
             [
              0.1111111111111111,
              "#46039f"
             ],
             [
              0.2222222222222222,
              "#7201a8"
             ],
             [
              0.3333333333333333,
              "#9c179e"
             ],
             [
              0.4444444444444444,
              "#bd3786"
             ],
             [
              0.5555555555555556,
              "#d8576b"
             ],
             [
              0.6666666666666666,
              "#ed7953"
             ],
             [
              0.7777777777777778,
              "#fb9f3a"
             ],
             [
              0.8888888888888888,
              "#fdca26"
             ],
             [
              1,
              "#f0f921"
             ]
            ],
            "type": "heatmapgl"
           }
          ],
          "histogram": [
           {
            "marker": {
             "pattern": {
              "fillmode": "overlay",
              "size": 10,
              "solidity": 0.2
             }
            },
            "type": "histogram"
           }
          ],
          "histogram2d": [
           {
            "colorbar": {
             "outlinewidth": 0,
             "ticks": ""
            },
            "colorscale": [
             [
              0,
              "#0d0887"
             ],
             [
              0.1111111111111111,
              "#46039f"
             ],
             [
              0.2222222222222222,
              "#7201a8"
             ],
             [
              0.3333333333333333,
              "#9c179e"
             ],
             [
              0.4444444444444444,
              "#bd3786"
             ],
             [
              0.5555555555555556,
              "#d8576b"
             ],
             [
              0.6666666666666666,
              "#ed7953"
             ],
             [
              0.7777777777777778,
              "#fb9f3a"
             ],
             [
              0.8888888888888888,
              "#fdca26"
             ],
             [
              1,
              "#f0f921"
             ]
            ],
            "type": "histogram2d"
           }
          ],
          "histogram2dcontour": [
           {
            "colorbar": {
             "outlinewidth": 0,
             "ticks": ""
            },
            "colorscale": [
             [
              0,
              "#0d0887"
             ],
             [
              0.1111111111111111,
              "#46039f"
             ],
             [
              0.2222222222222222,
              "#7201a8"
             ],
             [
              0.3333333333333333,
              "#9c179e"
             ],
             [
              0.4444444444444444,
              "#bd3786"
             ],
             [
              0.5555555555555556,
              "#d8576b"
             ],
             [
              0.6666666666666666,
              "#ed7953"
             ],
             [
              0.7777777777777778,
              "#fb9f3a"
             ],
             [
              0.8888888888888888,
              "#fdca26"
             ],
             [
              1,
              "#f0f921"
             ]
            ],
            "type": "histogram2dcontour"
           }
          ],
          "mesh3d": [
           {
            "colorbar": {
             "outlinewidth": 0,
             "ticks": ""
            },
            "type": "mesh3d"
           }
          ],
          "parcoords": [
           {
            "line": {
             "colorbar": {
              "outlinewidth": 0,
              "ticks": ""
             }
            },
            "type": "parcoords"
           }
          ],
          "pie": [
           {
            "automargin": true,
            "type": "pie"
           }
          ],
          "scatter": [
           {
            "fillpattern": {
             "fillmode": "overlay",
             "size": 10,
             "solidity": 0.2
            },
            "type": "scatter"
           }
          ],
          "scatter3d": [
           {
            "line": {
             "colorbar": {
              "outlinewidth": 0,
              "ticks": ""
             }
            },
            "marker": {
             "colorbar": {
              "outlinewidth": 0,
              "ticks": ""
             }
            },
            "type": "scatter3d"
           }
          ],
          "scattercarpet": [
           {
            "marker": {
             "colorbar": {
              "outlinewidth": 0,
              "ticks": ""
             }
            },
            "type": "scattercarpet"
           }
          ],
          "scattergeo": [
           {
            "marker": {
             "colorbar": {
              "outlinewidth": 0,
              "ticks": ""
             }
            },
            "type": "scattergeo"
           }
          ],
          "scattergl": [
           {
            "marker": {
             "colorbar": {
              "outlinewidth": 0,
              "ticks": ""
             }
            },
            "type": "scattergl"
           }
          ],
          "scattermapbox": [
           {
            "marker": {
             "colorbar": {
              "outlinewidth": 0,
              "ticks": ""
             }
            },
            "type": "scattermapbox"
           }
          ],
          "scatterpolar": [
           {
            "marker": {
             "colorbar": {
              "outlinewidth": 0,
              "ticks": ""
             }
            },
            "type": "scatterpolar"
           }
          ],
          "scatterpolargl": [
           {
            "marker": {
             "colorbar": {
              "outlinewidth": 0,
              "ticks": ""
             }
            },
            "type": "scatterpolargl"
           }
          ],
          "scatterternary": [
           {
            "marker": {
             "colorbar": {
              "outlinewidth": 0,
              "ticks": ""
             }
            },
            "type": "scatterternary"
           }
          ],
          "surface": [
           {
            "colorbar": {
             "outlinewidth": 0,
             "ticks": ""
            },
            "colorscale": [
             [
              0,
              "#0d0887"
             ],
             [
              0.1111111111111111,
              "#46039f"
             ],
             [
              0.2222222222222222,
              "#7201a8"
             ],
             [
              0.3333333333333333,
              "#9c179e"
             ],
             [
              0.4444444444444444,
              "#bd3786"
             ],
             [
              0.5555555555555556,
              "#d8576b"
             ],
             [
              0.6666666666666666,
              "#ed7953"
             ],
             [
              0.7777777777777778,
              "#fb9f3a"
             ],
             [
              0.8888888888888888,
              "#fdca26"
             ],
             [
              1,
              "#f0f921"
             ]
            ],
            "type": "surface"
           }
          ],
          "table": [
           {
            "cells": {
             "fill": {
              "color": "#EBF0F8"
             },
             "line": {
              "color": "white"
             }
            },
            "header": {
             "fill": {
              "color": "#C8D4E3"
             },
             "line": {
              "color": "white"
             }
            },
            "type": "table"
           }
          ]
         },
         "layout": {
          "annotationdefaults": {
           "arrowcolor": "#2a3f5f",
           "arrowhead": 0,
           "arrowwidth": 1
          },
          "autotypenumbers": "strict",
          "coloraxis": {
           "colorbar": {
            "outlinewidth": 0,
            "ticks": ""
           }
          },
          "colorscale": {
           "diverging": [
            [
             0,
             "#8e0152"
            ],
            [
             0.1,
             "#c51b7d"
            ],
            [
             0.2,
             "#de77ae"
            ],
            [
             0.3,
             "#f1b6da"
            ],
            [
             0.4,
             "#fde0ef"
            ],
            [
             0.5,
             "#f7f7f7"
            ],
            [
             0.6,
             "#e6f5d0"
            ],
            [
             0.7,
             "#b8e186"
            ],
            [
             0.8,
             "#7fbc41"
            ],
            [
             0.9,
             "#4d9221"
            ],
            [
             1,
             "#276419"
            ]
           ],
           "sequential": [
            [
             0,
             "#0d0887"
            ],
            [
             0.1111111111111111,
             "#46039f"
            ],
            [
             0.2222222222222222,
             "#7201a8"
            ],
            [
             0.3333333333333333,
             "#9c179e"
            ],
            [
             0.4444444444444444,
             "#bd3786"
            ],
            [
             0.5555555555555556,
             "#d8576b"
            ],
            [
             0.6666666666666666,
             "#ed7953"
            ],
            [
             0.7777777777777778,
             "#fb9f3a"
            ],
            [
             0.8888888888888888,
             "#fdca26"
            ],
            [
             1,
             "#f0f921"
            ]
           ],
           "sequentialminus": [
            [
             0,
             "#0d0887"
            ],
            [
             0.1111111111111111,
             "#46039f"
            ],
            [
             0.2222222222222222,
             "#7201a8"
            ],
            [
             0.3333333333333333,
             "#9c179e"
            ],
            [
             0.4444444444444444,
             "#bd3786"
            ],
            [
             0.5555555555555556,
             "#d8576b"
            ],
            [
             0.6666666666666666,
             "#ed7953"
            ],
            [
             0.7777777777777778,
             "#fb9f3a"
            ],
            [
             0.8888888888888888,
             "#fdca26"
            ],
            [
             1,
             "#f0f921"
            ]
           ]
          },
          "colorway": [
           "#636efa",
           "#EF553B",
           "#00cc96",
           "#ab63fa",
           "#FFA15A",
           "#19d3f3",
           "#FF6692",
           "#B6E880",
           "#FF97FF",
           "#FECB52"
          ],
          "font": {
           "color": "#2a3f5f"
          },
          "geo": {
           "bgcolor": "white",
           "lakecolor": "white",
           "landcolor": "#E5ECF6",
           "showlakes": true,
           "showland": true,
           "subunitcolor": "white"
          },
          "hoverlabel": {
           "align": "left"
          },
          "hovermode": "closest",
          "mapbox": {
           "style": "light"
          },
          "paper_bgcolor": "white",
          "plot_bgcolor": "#E5ECF6",
          "polar": {
           "angularaxis": {
            "gridcolor": "white",
            "linecolor": "white",
            "ticks": ""
           },
           "bgcolor": "#E5ECF6",
           "radialaxis": {
            "gridcolor": "white",
            "linecolor": "white",
            "ticks": ""
           }
          },
          "scene": {
           "xaxis": {
            "backgroundcolor": "#E5ECF6",
            "gridcolor": "white",
            "gridwidth": 2,
            "linecolor": "white",
            "showbackground": true,
            "ticks": "",
            "zerolinecolor": "white"
           },
           "yaxis": {
            "backgroundcolor": "#E5ECF6",
            "gridcolor": "white",
            "gridwidth": 2,
            "linecolor": "white",
            "showbackground": true,
            "ticks": "",
            "zerolinecolor": "white"
           },
           "zaxis": {
            "backgroundcolor": "#E5ECF6",
            "gridcolor": "white",
            "gridwidth": 2,
            "linecolor": "white",
            "showbackground": true,
            "ticks": "",
            "zerolinecolor": "white"
           }
          },
          "shapedefaults": {
           "line": {
            "color": "#2a3f5f"
           }
          },
          "ternary": {
           "aaxis": {
            "gridcolor": "white",
            "linecolor": "white",
            "ticks": ""
           },
           "baxis": {
            "gridcolor": "white",
            "linecolor": "white",
            "ticks": ""
           },
           "bgcolor": "#E5ECF6",
           "caxis": {
            "gridcolor": "white",
            "linecolor": "white",
            "ticks": ""
           }
          },
          "title": {
           "x": 0.05
          },
          "xaxis": {
           "automargin": true,
           "gridcolor": "white",
           "linecolor": "white",
           "ticks": "",
           "title": {
            "standoff": 15
           },
           "zerolinecolor": "white",
           "zerolinewidth": 2
          },
          "yaxis": {
           "automargin": true,
           "gridcolor": "white",
           "linecolor": "white",
           "ticks": "",
           "title": {
            "standoff": 15
           },
           "zerolinecolor": "white",
           "zerolinewidth": 2
          }
         }
        },
        "title": {
         "text": "Distribucija spola ispitanika"
        },
        "width": 800
       }
      }
     },
     "metadata": {},
     "output_type": "display_data"
    }
   ],
   "source": [
    "#analiza distribucije etnične pripadnosti, bračnog statusa, spola, zanimanje i kvalifikacije ispitanika\n",
    "fig1 = px.pie(metadata_df, names=\"SEX_ID\", title=\"Distribucija spola ispitanika\", hole=0.3)\n",
    "fig1.update_layout(width=800, height=600)  # Smanjuje širinu i visinu\n",
    "fig1.show()\n"
   ]
  },
  {
   "cell_type": "code",
   "execution_count": 21,
   "metadata": {},
   "outputs": [
    {
     "data": {
      "application/vnd.plotly.v1+json": {
       "config": {
        "plotlyServerURL": "https://plot.ly"
       },
       "data": [
        {
         "domain": {
          "x": [
           0,
           1
          ],
          "y": [
           0,
           1
          ]
         },
         "hole": 0.3,
         "hovertemplate": "ETHNIC_ID=%{label}<extra></extra>",
         "labels": [
          "White",
          "White",
          "White",
          "Unknown",
          "White",
          "White",
          "White",
          "White",
          "White",
          "White",
          "White",
          "Asian/Asian British",
          "White",
          "White",
          "White",
          "White",
          "Black/Black British",
          "White",
          "Asian/Asian British",
          "White",
          "White",
          "White",
          "White",
          "White",
          "White",
          "White",
          "White",
          "White",
          "White",
          "White",
          "White",
          "White",
          "White",
          "White",
          "White",
          "White",
          "White",
          "White",
          "White",
          "White",
          "White",
          "White",
          "White",
          "White",
          "White",
          "White",
          "White",
          "White",
          "White",
          "White",
          "White",
          "White",
          "White",
          "White",
          "White",
          "White",
          "White",
          "Other",
          "Asian/Asian British",
          "Unknown",
          "White",
          "White",
          "White",
          "White",
          "Asian/Asian British",
          "Asian/Asian British",
          "White",
          "White",
          "Other",
          "White",
          "White",
          "White",
          "Asian/Asian British",
          "White",
          "Black/Black British",
          "White",
          "Asian/Asian British",
          "White",
          "White",
          "White",
          "White",
          "White",
          "White",
          "White",
          "White",
          "White",
          "Other",
          "White",
          "White",
          "White",
          "White",
          "Chinese",
          "Chinese",
          "Asian/Asian British",
          "Chinese",
          "Unknown",
          "Chinese",
          "Chinese",
          "Chinese",
          "White",
          "White",
          "White",
          "White",
          "White",
          "Unknown",
          "White",
          "White",
          "White",
          "Asian/Asian British",
          "White",
          "White",
          "White",
          "Asian/Asian British",
          "Asian/Asian British",
          "White",
          "Chinese",
          "White",
          "Unknown",
          "White",
          "Chinese",
          "Asian/Asian British",
          "White",
          "Asian/Asian British",
          "White",
          "White",
          "Asian/Asian British",
          "Asian/Asian British",
          "Asian/Asian British",
          "White",
          "White",
          "White",
          "White",
          "White",
          "White",
          "White",
          "White",
          "White",
          "White",
          "White",
          "White",
          "White",
          "White",
          "White",
          "White",
          "White",
          "White",
          "Asian/Asian British",
          "Asian/Asian British",
          "White",
          "White",
          "White",
          "White",
          "White",
          "White",
          "White",
          "White",
          "White",
          "White",
          "White",
          "White",
          "White",
          "White",
          "White",
          "White",
          "White",
          "White",
          "White",
          "Unknown",
          "Asian/Asian British",
          "Black/Black British",
          "Black/Black British",
          "Asian/Asian British",
          "White",
          "White",
          "White",
          "White",
          "White",
          "Black/Black British",
          "White",
          "Unknown",
          "White",
          "White",
          "White",
          "White",
          "White",
          "White",
          "White",
          "Asian/Asian British",
          "White",
          "White",
          "White",
          "White",
          "White",
          "Chinese",
          "White",
          "White",
          "White",
          "White",
          "Black/Black British",
          "Asian/Asian British",
          "Other",
          "White",
          "White",
          "White",
          "White",
          "Unknown",
          "Asian/Asian British",
          "White",
          "White",
          "Asian/Asian British",
          "White",
          "Asian/Asian British",
          "White",
          "White",
          "Unknown",
          "White",
          "White",
          "Asian/Asian British",
          "Unknown",
          "Asian/Asian British",
          "White",
          "Asian/Asian British",
          "Asian/Asian British",
          "Asian/Asian British",
          "Chinese",
          "Asian/Asian British",
          "Black/Black British",
          "Asian/Asian British",
          "White",
          "Black/Black British",
          "White",
          "White",
          "White",
          "Black/Black British",
          "White",
          "Asian/Asian British",
          "Black/Black British",
          "Chinese",
          "White",
          "White",
          "White",
          "White",
          "White",
          "White",
          "Asian/Asian British",
          "White",
          "White",
          "White",
          "White",
          "Unknown",
          "White",
          "Other",
          "Asian/Asian British",
          "White",
          "White",
          "White",
          "Other",
          "White",
          "Asian/Asian British",
          "Unknown",
          "White",
          "White",
          "Asian/Asian British",
          "White",
          "White",
          "White",
          "White",
          "White",
          "White",
          "White",
          "White",
          "White",
          "White",
          "White",
          "White",
          "White",
          "White",
          "White",
          "White",
          "Unknown",
          "White",
          "White",
          "White",
          "Asian/Asian British",
          "Chinese",
          "Asian/Asian British",
          "White",
          "White",
          "White",
          "White",
          "Other",
          "White",
          "Unknown",
          "White",
          "Unknown",
          "Unknown",
          "White",
          "White",
          "White",
          "White",
          "White",
          "White",
          "White",
          "White",
          "White",
          "White",
          "Other",
          "White",
          "White",
          "White",
          "White",
          "White",
          "White",
          "White",
          "White",
          "Asian/Asian British",
          "Unknown",
          "White",
          "White",
          "Unknown",
          "White",
          "White",
          "White",
          "White",
          "White",
          "White",
          "White",
          "White",
          "White",
          "Chinese",
          "White",
          "White",
          "White",
          "White",
          "White",
          "White",
          "White",
          "White",
          "White",
          "White",
          "White",
          "White",
          "White",
          "White",
          "White",
          "Asian/Asian British",
          "White",
          "White",
          "White",
          "White",
          "White",
          "White",
          "White",
          "White",
          "White",
          "White",
          "White",
          "White",
          "White",
          "White",
          "White",
          "White",
          "White",
          "White",
          "White",
          "White",
          "White",
          "White",
          "White",
          "White",
          "White",
          "White",
          "White",
          "White",
          "White",
          "White",
          "Asian/Asian British",
          "White",
          "White",
          "White",
          "White",
          "White",
          "White",
          "White",
          "White",
          "White",
          "White",
          "White",
          "Asian/Asian British",
          "White",
          "White",
          "White",
          "White",
          "White",
          "White",
          "White",
          "White",
          "Other",
          "White",
          "White",
          "White",
          "White",
          "White",
          "White",
          "White",
          "White",
          "White",
          "White",
          "White",
          "White",
          "White",
          "White",
          "White",
          "Black/Black British",
          "White",
          "White",
          "White",
          "White",
          "White",
          "White",
          "White",
          "White",
          "White",
          "White",
          "White",
          "White",
          "White",
          "White",
          "White",
          "White",
          "White",
          "White",
          "White",
          "White",
          "White",
          "White",
          "White",
          "White",
          "White",
          "White",
          "White",
          "Asian/Asian British",
          "White",
          "White",
          "White",
          "White",
          "White",
          "White",
          "White",
          "White",
          "White",
          "White",
          "White",
          "Black/Black British",
          "White",
          "White",
          "White",
          "White",
          "White",
          "White",
          "White",
          "White",
          "White",
          "White",
          "White",
          "White",
          "White",
          "White",
          "White",
          "White",
          "Unknown",
          "White",
          "White",
          "Unknown",
          "White",
          "White",
          "Unknown",
          "White",
          "White",
          "White",
          "White",
          "Asian/Asian British",
          "White",
          "White",
          "White",
          "Asian/Asian British",
          "White",
          "White",
          "White",
          "White",
          "White",
          "White",
          "Unknown",
          "White",
          "White",
          "Black/Black British",
          "White",
          "White",
          "White",
          "White",
          "White",
          "White",
          "White",
          "White",
          "White",
          "White",
          "White",
          "White",
          "White",
          "White",
          "White",
          "Asian/Asian British",
          "White",
          "White",
          "White",
          "White",
          "White",
          "White",
          "White",
          "White",
          "White",
          "Unknown",
          "White",
          "White",
          "White",
          "White",
          "White",
          "White",
          "White",
          "White",
          "White",
          "White",
          "Asian/Asian British",
          "White",
          "White",
          "White",
          "Black/Black British",
          "White",
          "White",
          "White",
          "White",
          "Asian/Asian British",
          "Unknown",
          "White",
          "White",
          "White",
          "White",
          "White",
          "White",
          "White",
          "White",
          "Other",
          "White",
          "Asian/Asian British",
          "White",
          "White",
          "White"
         ],
         "legendgroup": "",
         "name": "",
         "showlegend": true,
         "type": "pie"
        }
       ],
       "layout": {
        "height": 600,
        "legend": {
         "tracegroupgap": 0
        },
        "template": {
         "data": {
          "bar": [
           {
            "error_x": {
             "color": "#2a3f5f"
            },
            "error_y": {
             "color": "#2a3f5f"
            },
            "marker": {
             "line": {
              "color": "#E5ECF6",
              "width": 0.5
             },
             "pattern": {
              "fillmode": "overlay",
              "size": 10,
              "solidity": 0.2
             }
            },
            "type": "bar"
           }
          ],
          "barpolar": [
           {
            "marker": {
             "line": {
              "color": "#E5ECF6",
              "width": 0.5
             },
             "pattern": {
              "fillmode": "overlay",
              "size": 10,
              "solidity": 0.2
             }
            },
            "type": "barpolar"
           }
          ],
          "carpet": [
           {
            "aaxis": {
             "endlinecolor": "#2a3f5f",
             "gridcolor": "white",
             "linecolor": "white",
             "minorgridcolor": "white",
             "startlinecolor": "#2a3f5f"
            },
            "baxis": {
             "endlinecolor": "#2a3f5f",
             "gridcolor": "white",
             "linecolor": "white",
             "minorgridcolor": "white",
             "startlinecolor": "#2a3f5f"
            },
            "type": "carpet"
           }
          ],
          "choropleth": [
           {
            "colorbar": {
             "outlinewidth": 0,
             "ticks": ""
            },
            "type": "choropleth"
           }
          ],
          "contour": [
           {
            "colorbar": {
             "outlinewidth": 0,
             "ticks": ""
            },
            "colorscale": [
             [
              0,
              "#0d0887"
             ],
             [
              0.1111111111111111,
              "#46039f"
             ],
             [
              0.2222222222222222,
              "#7201a8"
             ],
             [
              0.3333333333333333,
              "#9c179e"
             ],
             [
              0.4444444444444444,
              "#bd3786"
             ],
             [
              0.5555555555555556,
              "#d8576b"
             ],
             [
              0.6666666666666666,
              "#ed7953"
             ],
             [
              0.7777777777777778,
              "#fb9f3a"
             ],
             [
              0.8888888888888888,
              "#fdca26"
             ],
             [
              1,
              "#f0f921"
             ]
            ],
            "type": "contour"
           }
          ],
          "contourcarpet": [
           {
            "colorbar": {
             "outlinewidth": 0,
             "ticks": ""
            },
            "type": "contourcarpet"
           }
          ],
          "heatmap": [
           {
            "colorbar": {
             "outlinewidth": 0,
             "ticks": ""
            },
            "colorscale": [
             [
              0,
              "#0d0887"
             ],
             [
              0.1111111111111111,
              "#46039f"
             ],
             [
              0.2222222222222222,
              "#7201a8"
             ],
             [
              0.3333333333333333,
              "#9c179e"
             ],
             [
              0.4444444444444444,
              "#bd3786"
             ],
             [
              0.5555555555555556,
              "#d8576b"
             ],
             [
              0.6666666666666666,
              "#ed7953"
             ],
             [
              0.7777777777777778,
              "#fb9f3a"
             ],
             [
              0.8888888888888888,
              "#fdca26"
             ],
             [
              1,
              "#f0f921"
             ]
            ],
            "type": "heatmap"
           }
          ],
          "heatmapgl": [
           {
            "colorbar": {
             "outlinewidth": 0,
             "ticks": ""
            },
            "colorscale": [
             [
              0,
              "#0d0887"
             ],
             [
              0.1111111111111111,
              "#46039f"
             ],
             [
              0.2222222222222222,
              "#7201a8"
             ],
             [
              0.3333333333333333,
              "#9c179e"
             ],
             [
              0.4444444444444444,
              "#bd3786"
             ],
             [
              0.5555555555555556,
              "#d8576b"
             ],
             [
              0.6666666666666666,
              "#ed7953"
             ],
             [
              0.7777777777777778,
              "#fb9f3a"
             ],
             [
              0.8888888888888888,
              "#fdca26"
             ],
             [
              1,
              "#f0f921"
             ]
            ],
            "type": "heatmapgl"
           }
          ],
          "histogram": [
           {
            "marker": {
             "pattern": {
              "fillmode": "overlay",
              "size": 10,
              "solidity": 0.2
             }
            },
            "type": "histogram"
           }
          ],
          "histogram2d": [
           {
            "colorbar": {
             "outlinewidth": 0,
             "ticks": ""
            },
            "colorscale": [
             [
              0,
              "#0d0887"
             ],
             [
              0.1111111111111111,
              "#46039f"
             ],
             [
              0.2222222222222222,
              "#7201a8"
             ],
             [
              0.3333333333333333,
              "#9c179e"
             ],
             [
              0.4444444444444444,
              "#bd3786"
             ],
             [
              0.5555555555555556,
              "#d8576b"
             ],
             [
              0.6666666666666666,
              "#ed7953"
             ],
             [
              0.7777777777777778,
              "#fb9f3a"
             ],
             [
              0.8888888888888888,
              "#fdca26"
             ],
             [
              1,
              "#f0f921"
             ]
            ],
            "type": "histogram2d"
           }
          ],
          "histogram2dcontour": [
           {
            "colorbar": {
             "outlinewidth": 0,
             "ticks": ""
            },
            "colorscale": [
             [
              0,
              "#0d0887"
             ],
             [
              0.1111111111111111,
              "#46039f"
             ],
             [
              0.2222222222222222,
              "#7201a8"
             ],
             [
              0.3333333333333333,
              "#9c179e"
             ],
             [
              0.4444444444444444,
              "#bd3786"
             ],
             [
              0.5555555555555556,
              "#d8576b"
             ],
             [
              0.6666666666666666,
              "#ed7953"
             ],
             [
              0.7777777777777778,
              "#fb9f3a"
             ],
             [
              0.8888888888888888,
              "#fdca26"
             ],
             [
              1,
              "#f0f921"
             ]
            ],
            "type": "histogram2dcontour"
           }
          ],
          "mesh3d": [
           {
            "colorbar": {
             "outlinewidth": 0,
             "ticks": ""
            },
            "type": "mesh3d"
           }
          ],
          "parcoords": [
           {
            "line": {
             "colorbar": {
              "outlinewidth": 0,
              "ticks": ""
             }
            },
            "type": "parcoords"
           }
          ],
          "pie": [
           {
            "automargin": true,
            "type": "pie"
           }
          ],
          "scatter": [
           {
            "fillpattern": {
             "fillmode": "overlay",
             "size": 10,
             "solidity": 0.2
            },
            "type": "scatter"
           }
          ],
          "scatter3d": [
           {
            "line": {
             "colorbar": {
              "outlinewidth": 0,
              "ticks": ""
             }
            },
            "marker": {
             "colorbar": {
              "outlinewidth": 0,
              "ticks": ""
             }
            },
            "type": "scatter3d"
           }
          ],
          "scattercarpet": [
           {
            "marker": {
             "colorbar": {
              "outlinewidth": 0,
              "ticks": ""
             }
            },
            "type": "scattercarpet"
           }
          ],
          "scattergeo": [
           {
            "marker": {
             "colorbar": {
              "outlinewidth": 0,
              "ticks": ""
             }
            },
            "type": "scattergeo"
           }
          ],
          "scattergl": [
           {
            "marker": {
             "colorbar": {
              "outlinewidth": 0,
              "ticks": ""
             }
            },
            "type": "scattergl"
           }
          ],
          "scattermapbox": [
           {
            "marker": {
             "colorbar": {
              "outlinewidth": 0,
              "ticks": ""
             }
            },
            "type": "scattermapbox"
           }
          ],
          "scatterpolar": [
           {
            "marker": {
             "colorbar": {
              "outlinewidth": 0,
              "ticks": ""
             }
            },
            "type": "scatterpolar"
           }
          ],
          "scatterpolargl": [
           {
            "marker": {
             "colorbar": {
              "outlinewidth": 0,
              "ticks": ""
             }
            },
            "type": "scatterpolargl"
           }
          ],
          "scatterternary": [
           {
            "marker": {
             "colorbar": {
              "outlinewidth": 0,
              "ticks": ""
             }
            },
            "type": "scatterternary"
           }
          ],
          "surface": [
           {
            "colorbar": {
             "outlinewidth": 0,
             "ticks": ""
            },
            "colorscale": [
             [
              0,
              "#0d0887"
             ],
             [
              0.1111111111111111,
              "#46039f"
             ],
             [
              0.2222222222222222,
              "#7201a8"
             ],
             [
              0.3333333333333333,
              "#9c179e"
             ],
             [
              0.4444444444444444,
              "#bd3786"
             ],
             [
              0.5555555555555556,
              "#d8576b"
             ],
             [
              0.6666666666666666,
              "#ed7953"
             ],
             [
              0.7777777777777778,
              "#fb9f3a"
             ],
             [
              0.8888888888888888,
              "#fdca26"
             ],
             [
              1,
              "#f0f921"
             ]
            ],
            "type": "surface"
           }
          ],
          "table": [
           {
            "cells": {
             "fill": {
              "color": "#EBF0F8"
             },
             "line": {
              "color": "white"
             }
            },
            "header": {
             "fill": {
              "color": "#C8D4E3"
             },
             "line": {
              "color": "white"
             }
            },
            "type": "table"
           }
          ]
         },
         "layout": {
          "annotationdefaults": {
           "arrowcolor": "#2a3f5f",
           "arrowhead": 0,
           "arrowwidth": 1
          },
          "autotypenumbers": "strict",
          "coloraxis": {
           "colorbar": {
            "outlinewidth": 0,
            "ticks": ""
           }
          },
          "colorscale": {
           "diverging": [
            [
             0,
             "#8e0152"
            ],
            [
             0.1,
             "#c51b7d"
            ],
            [
             0.2,
             "#de77ae"
            ],
            [
             0.3,
             "#f1b6da"
            ],
            [
             0.4,
             "#fde0ef"
            ],
            [
             0.5,
             "#f7f7f7"
            ],
            [
             0.6,
             "#e6f5d0"
            ],
            [
             0.7,
             "#b8e186"
            ],
            [
             0.8,
             "#7fbc41"
            ],
            [
             0.9,
             "#4d9221"
            ],
            [
             1,
             "#276419"
            ]
           ],
           "sequential": [
            [
             0,
             "#0d0887"
            ],
            [
             0.1111111111111111,
             "#46039f"
            ],
            [
             0.2222222222222222,
             "#7201a8"
            ],
            [
             0.3333333333333333,
             "#9c179e"
            ],
            [
             0.4444444444444444,
             "#bd3786"
            ],
            [
             0.5555555555555556,
             "#d8576b"
            ],
            [
             0.6666666666666666,
             "#ed7953"
            ],
            [
             0.7777777777777778,
             "#fb9f3a"
            ],
            [
             0.8888888888888888,
             "#fdca26"
            ],
            [
             1,
             "#f0f921"
            ]
           ],
           "sequentialminus": [
            [
             0,
             "#0d0887"
            ],
            [
             0.1111111111111111,
             "#46039f"
            ],
            [
             0.2222222222222222,
             "#7201a8"
            ],
            [
             0.3333333333333333,
             "#9c179e"
            ],
            [
             0.4444444444444444,
             "#bd3786"
            ],
            [
             0.5555555555555556,
             "#d8576b"
            ],
            [
             0.6666666666666666,
             "#ed7953"
            ],
            [
             0.7777777777777778,
             "#fb9f3a"
            ],
            [
             0.8888888888888888,
             "#fdca26"
            ],
            [
             1,
             "#f0f921"
            ]
           ]
          },
          "colorway": [
           "#636efa",
           "#EF553B",
           "#00cc96",
           "#ab63fa",
           "#FFA15A",
           "#19d3f3",
           "#FF6692",
           "#B6E880",
           "#FF97FF",
           "#FECB52"
          ],
          "font": {
           "color": "#2a3f5f"
          },
          "geo": {
           "bgcolor": "white",
           "lakecolor": "white",
           "landcolor": "#E5ECF6",
           "showlakes": true,
           "showland": true,
           "subunitcolor": "white"
          },
          "hoverlabel": {
           "align": "left"
          },
          "hovermode": "closest",
          "mapbox": {
           "style": "light"
          },
          "paper_bgcolor": "white",
          "plot_bgcolor": "#E5ECF6",
          "polar": {
           "angularaxis": {
            "gridcolor": "white",
            "linecolor": "white",
            "ticks": ""
           },
           "bgcolor": "#E5ECF6",
           "radialaxis": {
            "gridcolor": "white",
            "linecolor": "white",
            "ticks": ""
           }
          },
          "scene": {
           "xaxis": {
            "backgroundcolor": "#E5ECF6",
            "gridcolor": "white",
            "gridwidth": 2,
            "linecolor": "white",
            "showbackground": true,
            "ticks": "",
            "zerolinecolor": "white"
           },
           "yaxis": {
            "backgroundcolor": "#E5ECF6",
            "gridcolor": "white",
            "gridwidth": 2,
            "linecolor": "white",
            "showbackground": true,
            "ticks": "",
            "zerolinecolor": "white"
           },
           "zaxis": {
            "backgroundcolor": "#E5ECF6",
            "gridcolor": "white",
            "gridwidth": 2,
            "linecolor": "white",
            "showbackground": true,
            "ticks": "",
            "zerolinecolor": "white"
           }
          },
          "shapedefaults": {
           "line": {
            "color": "#2a3f5f"
           }
          },
          "ternary": {
           "aaxis": {
            "gridcolor": "white",
            "linecolor": "white",
            "ticks": ""
           },
           "baxis": {
            "gridcolor": "white",
            "linecolor": "white",
            "ticks": ""
           },
           "bgcolor": "#E5ECF6",
           "caxis": {
            "gridcolor": "white",
            "linecolor": "white",
            "ticks": ""
           }
          },
          "title": {
           "x": 0.05
          },
          "xaxis": {
           "automargin": true,
           "gridcolor": "white",
           "linecolor": "white",
           "ticks": "",
           "title": {
            "standoff": 15
           },
           "zerolinecolor": "white",
           "zerolinewidth": 2
          },
          "yaxis": {
           "automargin": true,
           "gridcolor": "white",
           "linecolor": "white",
           "ticks": "",
           "title": {
            "standoff": 15
           },
           "zerolinecolor": "white",
           "zerolinewidth": 2
          }
         }
        },
        "title": {
         "text": "Distribucija etičke pripadnosti ispitanika"
        },
        "width": 800
       }
      }
     },
     "metadata": {},
     "output_type": "display_data"
    }
   ],
   "source": [
    "fig2 = px.pie(metadata_df, names=\"ETHNIC_ID\", title=\"Distribucija etičke pripadnosti ispitanika\", hole=0.3)\n",
    "fig2.update_layout(width=800, height=600)\n",
    "fig2.show()"
   ]
  },
  {
   "cell_type": "code",
   "execution_count": 22,
   "metadata": {},
   "outputs": [
    {
     "data": {
      "application/vnd.plotly.v1+json": {
       "config": {
        "plotlyServerURL": "https://plot.ly"
       },
       "data": [
        {
         "domain": {
          "x": [
           0,
           1
          ],
          "y": [
           0,
           1
          ]
         },
         "hole": 0.3,
         "hovertemplate": "MARITAL_ID=%{label}<extra></extra>",
         "labels": [
          "Divorced/Separated",
          "Married",
          "Married",
          "Single",
          "Married",
          "Cohabiting",
          "Married",
          "Married",
          "Single",
          "Single",
          "Married",
          "Divorced/Separated",
          "Single",
          "Single",
          "Single",
          "Married",
          "Widowed",
          "Cohabiting",
          "Single",
          "Single",
          "Single",
          "Unknown",
          "Single",
          "Cohabiting",
          "Single",
          "Single",
          "Cohabiting",
          "Single",
          "Single",
          "Single",
          "Cohabiting",
          "Single",
          "Cohabiting",
          "Married",
          "Single",
          "Divorced/Separated",
          "Cohabiting",
          "Cohabiting",
          "Married",
          "Single",
          "Married",
          "Single",
          "Single",
          "Single",
          "Married",
          "Married",
          "Married",
          "Married",
          "Single",
          "Single",
          "Single",
          "Married",
          "Single",
          "Single",
          "Single",
          "Single",
          "Married",
          "Married",
          "Married",
          "Unknown",
          "Single",
          "Married",
          "Single",
          "Single",
          "Divorced/Separated",
          "Single",
          "Married",
          "Single",
          "Single",
          "Single",
          "Cohabiting",
          "Cohabiting",
          "Single",
          "Cohabiting",
          "Married",
          "Single",
          "Married",
          "Single",
          "Married",
          "Married",
          "Single",
          "Married",
          "Married",
          "Married",
          "Single",
          "Single",
          "Married",
          "Cohabiting",
          "Divorced/Separated",
          "Single",
          "Single",
          "Married",
          "Married",
          "Single",
          "Single",
          "Single",
          "Married",
          "Married",
          "Single",
          "Cohabiting",
          "Married",
          "Single",
          "Single",
          "Married",
          "Married",
          "Cohabiting",
          "Single",
          "Single",
          "Married",
          "Married",
          "Single",
          "Single",
          "Single",
          "Married",
          "Single",
          "Married",
          "Single",
          "Unknown",
          "Cohabiting",
          "Married",
          "Married",
          "Single",
          "Divorced/Separated",
          "Married",
          "Single",
          "Married",
          "Married",
          "Single",
          "Single",
          "Divorced/Separated",
          "Married",
          "Widowed",
          "Single",
          "Single",
          "Married",
          "Married",
          "Married",
          "Married",
          "Cohabiting",
          "Cohabiting",
          "Widowed",
          "Married",
          "Divorced/Separated",
          "Married",
          "Married",
          "Married",
          "Married",
          "Married",
          "Single",
          "Single",
          "Single",
          "Cohabiting",
          "Single",
          "Cohabiting",
          "Single",
          "Married",
          "Married",
          "Married",
          "Single",
          "Divorced/Separated",
          "Single",
          "Single",
          "Widowed",
          "Cohabiting",
          "Single",
          "Single",
          "Married",
          "Unknown",
          "Married",
          "Single",
          "Single",
          "Single",
          "Married",
          "Married",
          "Married",
          "Single",
          "Cohabiting",
          "Married",
          "Married",
          "Single",
          "Married",
          "Married",
          "Single",
          "Married",
          "Divorced/Separated",
          "Single",
          "Unknown",
          "Divorced/Separated",
          "Single",
          "Married",
          "Single",
          "Married",
          "Married",
          "Married",
          "Widowed",
          "Single",
          "Unknown",
          "Cohabiting",
          "Single",
          "Married",
          "Married",
          "Widowed",
          "Single",
          "Divorced/Separated",
          "Married",
          "Unknown",
          "Married",
          "Married",
          "Cohabiting",
          "Married",
          "Divorced/Separated",
          "Married",
          "Divorced/Separated",
          "Widowed",
          "Widowed",
          "Single",
          "Single",
          "Divorced/Separated",
          "Single",
          "Single",
          "Single",
          "Married",
          "Married",
          "Married",
          "Single",
          "Married",
          "Single",
          "Divorced/Separated",
          "Divorced/Separated",
          "Cohabiting",
          "Cohabiting",
          "Single",
          "Widowed",
          "Widowed",
          "Single",
          "Single",
          "Single",
          "Single",
          "Married",
          "Divorced/Separated",
          "Single",
          "Divorced/Separated",
          "Single",
          "Married",
          "Married",
          "Married",
          "Married",
          "Married",
          "Single",
          "Single",
          "Single",
          "Single",
          "Married",
          "Widowed",
          "Married",
          "Married",
          "Single",
          "Married",
          "Married",
          "Single",
          "Married",
          "Single",
          "Single",
          "Single",
          "Cohabiting",
          "Divorced/Separated",
          "Single",
          "Married",
          "Cohabiting",
          "Cohabiting",
          "Cohabiting",
          "Divorced/Separated",
          "Married",
          "Single",
          "Divorced/Separated",
          "Single",
          "Married",
          "Unknown",
          "Married",
          "Unknown",
          "Married",
          "Married",
          "Married",
          "Married",
          "Married",
          "Unknown",
          "Cohabiting",
          "Married",
          "Married",
          "Single",
          "Married",
          "Married",
          "Unknown",
          "Cohabiting",
          "Unknown",
          "Unknown",
          "Married",
          "Cohabiting",
          "Single",
          "Married",
          "Married",
          "Married",
          "Divorced/Separated",
          "Cohabiting",
          "Divorced/Separated",
          "Single",
          "Widowed",
          "Single",
          "Divorced/Separated",
          "Married",
          "Married",
          "Married",
          "Single",
          "Cohabiting",
          "Married",
          "Married",
          "Unknown",
          "Married",
          "Single",
          "Divorced/Separated",
          "Married",
          "Married",
          "Cohabiting",
          "Married",
          "Married",
          "Widowed",
          "Widowed",
          "Divorced/Separated",
          "Cohabiting",
          "Married",
          "Widowed",
          "Single",
          "Single",
          "Married",
          "Married",
          "Married",
          "Single",
          "Divorced/Separated",
          "Married",
          "Married",
          "Married",
          "Married",
          "Married",
          "Married",
          "Married",
          "Divorced/Separated",
          "Cohabiting",
          "Married",
          "Widowed",
          "Single",
          "Single",
          "Divorced/Separated",
          "Divorced/Separated",
          "Married",
          "Divorced/Separated",
          "Single",
          "Married",
          "Widowed",
          "Single",
          "Married",
          "Married",
          "Married",
          "Single",
          "Single",
          "Single",
          "Single",
          "Single",
          "Cohabiting",
          "Married",
          "Married",
          "Married",
          "Married",
          "Single",
          "Widowed",
          "Single",
          "Married",
          "Married",
          "Married",
          "Married",
          "Single",
          "Married",
          "Married",
          "Married",
          "Married",
          "Divorced/Separated",
          "Widowed",
          "Divorced/Separated",
          "Married",
          "Divorced/Separated",
          "Single",
          "Married",
          "Married",
          "Single",
          "Married",
          "Cohabiting",
          "Married",
          "Married",
          "Married",
          "Married",
          "Widowed",
          "Widowed",
          "Divorced/Separated",
          "Married",
          "Cohabiting",
          "Single",
          "Married",
          "Single",
          "Cohabiting",
          "Widowed",
          "Married",
          "Married",
          "Married",
          "Divorced/Separated",
          "Married",
          "Single",
          "Married",
          "Married",
          "Married",
          "Married",
          "Married",
          "Married",
          "Married",
          "Cohabiting",
          "Widowed",
          "Single",
          "Married",
          "Divorced/Separated",
          "Divorced/Separated",
          "Single",
          "Married",
          "Widowed",
          "Widowed",
          "Married",
          "Married",
          "Married",
          "Divorced/Separated",
          "Divorced/Separated",
          "Married",
          "Married",
          "Widowed",
          "Single",
          "Single",
          "Married",
          "Single",
          "Divorced/Separated",
          "Single",
          "Married",
          "Divorced/Separated",
          "Widowed",
          "Cohabiting",
          "Married",
          "Single",
          "Married",
          "Single",
          "Married",
          "Cohabiting",
          "Married",
          "Married",
          "Married",
          "Married",
          "Divorced/Separated",
          "Widowed",
          "Married",
          "Single",
          "Married",
          "Single",
          "Single",
          "Married",
          "Single",
          "Married",
          "Cohabiting",
          "Married",
          "Single",
          "Unknown",
          "Widowed",
          "Widowed",
          "Cohabiting",
          "Married",
          "Single",
          "Single",
          "Widowed",
          "Single",
          "Single",
          "Single",
          "Divorced/Separated",
          "Single",
          "Cohabiting",
          "Married",
          "Cohabiting",
          "Single",
          "Single",
          "Married",
          "Divorced/Separated",
          "Cohabiting",
          "Single",
          "Cohabiting",
          "Divorced/Separated",
          "Married",
          "Married",
          "Married",
          "Married",
          "Cohabiting",
          "Single",
          "Cohabiting",
          "Cohabiting",
          "Single",
          "Married",
          "Married",
          "Single",
          "Single",
          "Married",
          "Single",
          "Single",
          "Married",
          "Divorced/Separated",
          "Single",
          "Single",
          "Single",
          "Divorced/Separated",
          "Single",
          "Widowed",
          "Divorced/Separated",
          "Single",
          "Married",
          "Single",
          "Single",
          "Cohabiting",
          "Cohabiting",
          "Married",
          "Married",
          "Cohabiting",
          "Cohabiting",
          "Married",
          "Married",
          "Single",
          "Married",
          "Single",
          "Single",
          "Widowed",
          "Single",
          "Cohabiting",
          "Married",
          "Single",
          "Single",
          "Single",
          "Single",
          "Widowed",
          "Married",
          "Widowed",
          "Married",
          "Married",
          "Widowed",
          "Single",
          "Married",
          "Single",
          "Cohabiting",
          "Divorced/Separated"
         ],
         "legendgroup": "",
         "name": "",
         "showlegend": true,
         "type": "pie"
        }
       ],
       "layout": {
        "height": 600,
        "legend": {
         "tracegroupgap": 0
        },
        "template": {
         "data": {
          "bar": [
           {
            "error_x": {
             "color": "#2a3f5f"
            },
            "error_y": {
             "color": "#2a3f5f"
            },
            "marker": {
             "line": {
              "color": "#E5ECF6",
              "width": 0.5
             },
             "pattern": {
              "fillmode": "overlay",
              "size": 10,
              "solidity": 0.2
             }
            },
            "type": "bar"
           }
          ],
          "barpolar": [
           {
            "marker": {
             "line": {
              "color": "#E5ECF6",
              "width": 0.5
             },
             "pattern": {
              "fillmode": "overlay",
              "size": 10,
              "solidity": 0.2
             }
            },
            "type": "barpolar"
           }
          ],
          "carpet": [
           {
            "aaxis": {
             "endlinecolor": "#2a3f5f",
             "gridcolor": "white",
             "linecolor": "white",
             "minorgridcolor": "white",
             "startlinecolor": "#2a3f5f"
            },
            "baxis": {
             "endlinecolor": "#2a3f5f",
             "gridcolor": "white",
             "linecolor": "white",
             "minorgridcolor": "white",
             "startlinecolor": "#2a3f5f"
            },
            "type": "carpet"
           }
          ],
          "choropleth": [
           {
            "colorbar": {
             "outlinewidth": 0,
             "ticks": ""
            },
            "type": "choropleth"
           }
          ],
          "contour": [
           {
            "colorbar": {
             "outlinewidth": 0,
             "ticks": ""
            },
            "colorscale": [
             [
              0,
              "#0d0887"
             ],
             [
              0.1111111111111111,
              "#46039f"
             ],
             [
              0.2222222222222222,
              "#7201a8"
             ],
             [
              0.3333333333333333,
              "#9c179e"
             ],
             [
              0.4444444444444444,
              "#bd3786"
             ],
             [
              0.5555555555555556,
              "#d8576b"
             ],
             [
              0.6666666666666666,
              "#ed7953"
             ],
             [
              0.7777777777777778,
              "#fb9f3a"
             ],
             [
              0.8888888888888888,
              "#fdca26"
             ],
             [
              1,
              "#f0f921"
             ]
            ],
            "type": "contour"
           }
          ],
          "contourcarpet": [
           {
            "colorbar": {
             "outlinewidth": 0,
             "ticks": ""
            },
            "type": "contourcarpet"
           }
          ],
          "heatmap": [
           {
            "colorbar": {
             "outlinewidth": 0,
             "ticks": ""
            },
            "colorscale": [
             [
              0,
              "#0d0887"
             ],
             [
              0.1111111111111111,
              "#46039f"
             ],
             [
              0.2222222222222222,
              "#7201a8"
             ],
             [
              0.3333333333333333,
              "#9c179e"
             ],
             [
              0.4444444444444444,
              "#bd3786"
             ],
             [
              0.5555555555555556,
              "#d8576b"
             ],
             [
              0.6666666666666666,
              "#ed7953"
             ],
             [
              0.7777777777777778,
              "#fb9f3a"
             ],
             [
              0.8888888888888888,
              "#fdca26"
             ],
             [
              1,
              "#f0f921"
             ]
            ],
            "type": "heatmap"
           }
          ],
          "heatmapgl": [
           {
            "colorbar": {
             "outlinewidth": 0,
             "ticks": ""
            },
            "colorscale": [
             [
              0,
              "#0d0887"
             ],
             [
              0.1111111111111111,
              "#46039f"
             ],
             [
              0.2222222222222222,
              "#7201a8"
             ],
             [
              0.3333333333333333,
              "#9c179e"
             ],
             [
              0.4444444444444444,
              "#bd3786"
             ],
             [
              0.5555555555555556,
              "#d8576b"
             ],
             [
              0.6666666666666666,
              "#ed7953"
             ],
             [
              0.7777777777777778,
              "#fb9f3a"
             ],
             [
              0.8888888888888888,
              "#fdca26"
             ],
             [
              1,
              "#f0f921"
             ]
            ],
            "type": "heatmapgl"
           }
          ],
          "histogram": [
           {
            "marker": {
             "pattern": {
              "fillmode": "overlay",
              "size": 10,
              "solidity": 0.2
             }
            },
            "type": "histogram"
           }
          ],
          "histogram2d": [
           {
            "colorbar": {
             "outlinewidth": 0,
             "ticks": ""
            },
            "colorscale": [
             [
              0,
              "#0d0887"
             ],
             [
              0.1111111111111111,
              "#46039f"
             ],
             [
              0.2222222222222222,
              "#7201a8"
             ],
             [
              0.3333333333333333,
              "#9c179e"
             ],
             [
              0.4444444444444444,
              "#bd3786"
             ],
             [
              0.5555555555555556,
              "#d8576b"
             ],
             [
              0.6666666666666666,
              "#ed7953"
             ],
             [
              0.7777777777777778,
              "#fb9f3a"
             ],
             [
              0.8888888888888888,
              "#fdca26"
             ],
             [
              1,
              "#f0f921"
             ]
            ],
            "type": "histogram2d"
           }
          ],
          "histogram2dcontour": [
           {
            "colorbar": {
             "outlinewidth": 0,
             "ticks": ""
            },
            "colorscale": [
             [
              0,
              "#0d0887"
             ],
             [
              0.1111111111111111,
              "#46039f"
             ],
             [
              0.2222222222222222,
              "#7201a8"
             ],
             [
              0.3333333333333333,
              "#9c179e"
             ],
             [
              0.4444444444444444,
              "#bd3786"
             ],
             [
              0.5555555555555556,
              "#d8576b"
             ],
             [
              0.6666666666666666,
              "#ed7953"
             ],
             [
              0.7777777777777778,
              "#fb9f3a"
             ],
             [
              0.8888888888888888,
              "#fdca26"
             ],
             [
              1,
              "#f0f921"
             ]
            ],
            "type": "histogram2dcontour"
           }
          ],
          "mesh3d": [
           {
            "colorbar": {
             "outlinewidth": 0,
             "ticks": ""
            },
            "type": "mesh3d"
           }
          ],
          "parcoords": [
           {
            "line": {
             "colorbar": {
              "outlinewidth": 0,
              "ticks": ""
             }
            },
            "type": "parcoords"
           }
          ],
          "pie": [
           {
            "automargin": true,
            "type": "pie"
           }
          ],
          "scatter": [
           {
            "fillpattern": {
             "fillmode": "overlay",
             "size": 10,
             "solidity": 0.2
            },
            "type": "scatter"
           }
          ],
          "scatter3d": [
           {
            "line": {
             "colorbar": {
              "outlinewidth": 0,
              "ticks": ""
             }
            },
            "marker": {
             "colorbar": {
              "outlinewidth": 0,
              "ticks": ""
             }
            },
            "type": "scatter3d"
           }
          ],
          "scattercarpet": [
           {
            "marker": {
             "colorbar": {
              "outlinewidth": 0,
              "ticks": ""
             }
            },
            "type": "scattercarpet"
           }
          ],
          "scattergeo": [
           {
            "marker": {
             "colorbar": {
              "outlinewidth": 0,
              "ticks": ""
             }
            },
            "type": "scattergeo"
           }
          ],
          "scattergl": [
           {
            "marker": {
             "colorbar": {
              "outlinewidth": 0,
              "ticks": ""
             }
            },
            "type": "scattergl"
           }
          ],
          "scattermapbox": [
           {
            "marker": {
             "colorbar": {
              "outlinewidth": 0,
              "ticks": ""
             }
            },
            "type": "scattermapbox"
           }
          ],
          "scatterpolar": [
           {
            "marker": {
             "colorbar": {
              "outlinewidth": 0,
              "ticks": ""
             }
            },
            "type": "scatterpolar"
           }
          ],
          "scatterpolargl": [
           {
            "marker": {
             "colorbar": {
              "outlinewidth": 0,
              "ticks": ""
             }
            },
            "type": "scatterpolargl"
           }
          ],
          "scatterternary": [
           {
            "marker": {
             "colorbar": {
              "outlinewidth": 0,
              "ticks": ""
             }
            },
            "type": "scatterternary"
           }
          ],
          "surface": [
           {
            "colorbar": {
             "outlinewidth": 0,
             "ticks": ""
            },
            "colorscale": [
             [
              0,
              "#0d0887"
             ],
             [
              0.1111111111111111,
              "#46039f"
             ],
             [
              0.2222222222222222,
              "#7201a8"
             ],
             [
              0.3333333333333333,
              "#9c179e"
             ],
             [
              0.4444444444444444,
              "#bd3786"
             ],
             [
              0.5555555555555556,
              "#d8576b"
             ],
             [
              0.6666666666666666,
              "#ed7953"
             ],
             [
              0.7777777777777778,
              "#fb9f3a"
             ],
             [
              0.8888888888888888,
              "#fdca26"
             ],
             [
              1,
              "#f0f921"
             ]
            ],
            "type": "surface"
           }
          ],
          "table": [
           {
            "cells": {
             "fill": {
              "color": "#EBF0F8"
             },
             "line": {
              "color": "white"
             }
            },
            "header": {
             "fill": {
              "color": "#C8D4E3"
             },
             "line": {
              "color": "white"
             }
            },
            "type": "table"
           }
          ]
         },
         "layout": {
          "annotationdefaults": {
           "arrowcolor": "#2a3f5f",
           "arrowhead": 0,
           "arrowwidth": 1
          },
          "autotypenumbers": "strict",
          "coloraxis": {
           "colorbar": {
            "outlinewidth": 0,
            "ticks": ""
           }
          },
          "colorscale": {
           "diverging": [
            [
             0,
             "#8e0152"
            ],
            [
             0.1,
             "#c51b7d"
            ],
            [
             0.2,
             "#de77ae"
            ],
            [
             0.3,
             "#f1b6da"
            ],
            [
             0.4,
             "#fde0ef"
            ],
            [
             0.5,
             "#f7f7f7"
            ],
            [
             0.6,
             "#e6f5d0"
            ],
            [
             0.7,
             "#b8e186"
            ],
            [
             0.8,
             "#7fbc41"
            ],
            [
             0.9,
             "#4d9221"
            ],
            [
             1,
             "#276419"
            ]
           ],
           "sequential": [
            [
             0,
             "#0d0887"
            ],
            [
             0.1111111111111111,
             "#46039f"
            ],
            [
             0.2222222222222222,
             "#7201a8"
            ],
            [
             0.3333333333333333,
             "#9c179e"
            ],
            [
             0.4444444444444444,
             "#bd3786"
            ],
            [
             0.5555555555555556,
             "#d8576b"
            ],
            [
             0.6666666666666666,
             "#ed7953"
            ],
            [
             0.7777777777777778,
             "#fb9f3a"
            ],
            [
             0.8888888888888888,
             "#fdca26"
            ],
            [
             1,
             "#f0f921"
            ]
           ],
           "sequentialminus": [
            [
             0,
             "#0d0887"
            ],
            [
             0.1111111111111111,
             "#46039f"
            ],
            [
             0.2222222222222222,
             "#7201a8"
            ],
            [
             0.3333333333333333,
             "#9c179e"
            ],
            [
             0.4444444444444444,
             "#bd3786"
            ],
            [
             0.5555555555555556,
             "#d8576b"
            ],
            [
             0.6666666666666666,
             "#ed7953"
            ],
            [
             0.7777777777777778,
             "#fb9f3a"
            ],
            [
             0.8888888888888888,
             "#fdca26"
            ],
            [
             1,
             "#f0f921"
            ]
           ]
          },
          "colorway": [
           "#636efa",
           "#EF553B",
           "#00cc96",
           "#ab63fa",
           "#FFA15A",
           "#19d3f3",
           "#FF6692",
           "#B6E880",
           "#FF97FF",
           "#FECB52"
          ],
          "font": {
           "color": "#2a3f5f"
          },
          "geo": {
           "bgcolor": "white",
           "lakecolor": "white",
           "landcolor": "#E5ECF6",
           "showlakes": true,
           "showland": true,
           "subunitcolor": "white"
          },
          "hoverlabel": {
           "align": "left"
          },
          "hovermode": "closest",
          "mapbox": {
           "style": "light"
          },
          "paper_bgcolor": "white",
          "plot_bgcolor": "#E5ECF6",
          "polar": {
           "angularaxis": {
            "gridcolor": "white",
            "linecolor": "white",
            "ticks": ""
           },
           "bgcolor": "#E5ECF6",
           "radialaxis": {
            "gridcolor": "white",
            "linecolor": "white",
            "ticks": ""
           }
          },
          "scene": {
           "xaxis": {
            "backgroundcolor": "#E5ECF6",
            "gridcolor": "white",
            "gridwidth": 2,
            "linecolor": "white",
            "showbackground": true,
            "ticks": "",
            "zerolinecolor": "white"
           },
           "yaxis": {
            "backgroundcolor": "#E5ECF6",
            "gridcolor": "white",
            "gridwidth": 2,
            "linecolor": "white",
            "showbackground": true,
            "ticks": "",
            "zerolinecolor": "white"
           },
           "zaxis": {
            "backgroundcolor": "#E5ECF6",
            "gridcolor": "white",
            "gridwidth": 2,
            "linecolor": "white",
            "showbackground": true,
            "ticks": "",
            "zerolinecolor": "white"
           }
          },
          "shapedefaults": {
           "line": {
            "color": "#2a3f5f"
           }
          },
          "ternary": {
           "aaxis": {
            "gridcolor": "white",
            "linecolor": "white",
            "ticks": ""
           },
           "baxis": {
            "gridcolor": "white",
            "linecolor": "white",
            "ticks": ""
           },
           "bgcolor": "#E5ECF6",
           "caxis": {
            "gridcolor": "white",
            "linecolor": "white",
            "ticks": ""
           }
          },
          "title": {
           "x": 0.05
          },
          "xaxis": {
           "automargin": true,
           "gridcolor": "white",
           "linecolor": "white",
           "ticks": "",
           "title": {
            "standoff": 15
           },
           "zerolinecolor": "white",
           "zerolinewidth": 2
          },
          "yaxis": {
           "automargin": true,
           "gridcolor": "white",
           "linecolor": "white",
           "ticks": "",
           "title": {
            "standoff": 15
           },
           "zerolinecolor": "white",
           "zerolinewidth": 2
          }
         }
        },
        "title": {
         "text": "Distribucija bračnog statusa ispitanika"
        },
        "width": 800
       }
      }
     },
     "metadata": {},
     "output_type": "display_data"
    }
   ],
   "source": [
    "fig3 = px.pie(metadata_df, names=\"MARITAL_ID\", title=\"Distribucija bračnog statusa ispitanika\", hole=0.3)\n",
    "fig3.update_layout(width=800, height=600)\n",
    "fig3.show()"
   ]
  },
  {
   "cell_type": "code",
   "execution_count": 23,
   "metadata": {},
   "outputs": [
    {
     "data": {
      "application/vnd.plotly.v1+json": {
       "config": {
        "plotlyServerURL": "https://plot.ly"
       },
       "data": [
        {
         "domain": {
          "x": [
           0,
           1
          ],
          "y": [
           0,
           1
          ]
         },
         "hole": 0.3,
         "hovertemplate": "OCCUPATION_ID=%{label}<extra></extra>",
         "labels": [
          "Full time employment",
          "Full time employment",
          "Full time employment",
          "Unemployed",
          "Full time employment",
          "Full time employment",
          "Full time employment",
          "Full time employment",
          "College/university",
          "Part time employment",
          "Full time employment",
          "Part time employment",
          "Full time employment",
          "Full time employment",
          "Full time employment",
          "Retired",
          "Full time employment",
          "Full time employment",
          "Full time employment",
          "College/university",
          "College/university",
          "Unknown",
          "College/university",
          "College/university",
          "College/university",
          "College/university",
          "Part time employment",
          "Full time employment",
          "Full time employment",
          "College/university",
          "College/university",
          "Part time employment",
          "Full time employment",
          "Full time employment",
          "Full time employment",
          "Part time employment",
          "Full time employment",
          "Full time employment",
          "Full time employment",
          "Full time employment",
          "Full time employment",
          "College/university",
          "Full time employment",
          "College/university",
          "Full time employment",
          "Full time employment",
          "Full time employment",
          "Full time employment",
          "Full time employment",
          "Part time employment",
          "Full time employment",
          "Full time employment",
          "College/university",
          "College/university",
          "Full time employment",
          "College/university",
          "Full time employment",
          "Retired",
          "Full time employment",
          "Unknown",
          "Full time employment",
          "Full time employment",
          "Full time employment",
          "Full time employment",
          "Full time employment",
          "College/university",
          "Full time employment",
          "Full time employment",
          "Full time employment",
          "Full time employment",
          "Full time employment",
          "College/university",
          "College/university",
          "College/university",
          "Full time employment",
          "College/university",
          "College/university",
          "College/university",
          "Full time employment",
          "Full time employment",
          "Full time employment",
          "Full time employment",
          "Housework",
          "Full time employment",
          "College/university",
          "Full time employment",
          "Full time employment",
          "Full time employment",
          "Full time employment",
          "Full time employment",
          "Full time employment",
          "Unemployed",
          "Full time employment",
          "College/university",
          "College/university",
          "Full time employment",
          "Retired",
          "Retired",
          "College/university",
          "Full time employment",
          "Full time employment",
          "College/university",
          "College/university",
          "Part time employment",
          "Full time employment",
          "Full time employment",
          "College/university",
          "College/university",
          "Full time employment",
          "Part time employment",
          "Full time employment",
          "Unemployed",
          "Full time employment",
          "Full time employment",
          "Full time employment",
          "Part time employment",
          "Full time employment",
          "Unknown",
          "Full time employment",
          "Full time employment",
          "Full time employment",
          "College/university",
          "Full time employment",
          "Full time employment",
          "College/university",
          "Full time employment",
          "Unemployed",
          "College/university",
          "College/university",
          "Retired",
          "Full time employment",
          "Retired",
          "Full time employment",
          "Full time employment",
          "Full time employment",
          "Full time employment",
          "Full time employment",
          "Part time employment",
          "Full time employment",
          "Full time employment",
          "Retired",
          "Full time employment",
          "Full time employment",
          "Full time employment",
          "Retired",
          "Full time employment",
          "Retired",
          "Retired",
          "Full time employment",
          "Full time employment",
          "Full time employment",
          "Full time employment",
          "Full time employment",
          "Full time employment",
          "Full time employment",
          "Full time employment",
          "Retired",
          "Full time employment",
          "Full time employment",
          "Full time employment",
          "Full time employment",
          "Full time employment",
          "Full time employment",
          "Full time employment",
          "Full time employment",
          "Full time employment",
          "Part time employment",
          "Unknown",
          "Retired",
          "Full time employment",
          "College/university",
          "College/university",
          "Retired",
          "Full time employment",
          "Full time employment",
          "Full time employment",
          "Full time employment",
          "Unemployed",
          "Part time employment",
          "Full time employment",
          "Full time employment",
          "Other",
          "College/university",
          "Retired",
          "Other",
          "College/university",
          "Full time employment",
          "Full time employment",
          "Full time employment",
          "Part time employment",
          "Full time employment",
          "Full time employment",
          "Full time employment",
          "Retired",
          "Retired",
          "Full time employment",
          "Unknown",
          "Full time employment",
          "Full time employment",
          "Full time employment",
          "Full time employment",
          "Retired",
          "Full time employment",
          "Retired",
          "Full time employment",
          "Unknown",
          "Full time employment",
          "Part time employment",
          "Full time employment",
          "Full time employment",
          "Full time employment",
          "Retired",
          "Retired",
          "Retired",
          "Part time employment",
          "Full time employment",
          "College/university",
          "Part time employment",
          "College/university",
          "Retired",
          "College/university",
          "Part time employment",
          "Full time employment",
          "Full time employment",
          "College/university",
          "Full time employment",
          "Unemployed",
          "Full time employment",
          "Full time employment",
          "College/university",
          "Part time employment",
          "Full time employment",
          "Retired",
          "Retired",
          "Full time employment",
          "College/university",
          "Retired",
          "College/university",
          "Full time employment",
          "Full time employment",
          "Full time employment",
          "Full time employment",
          "Full time employment",
          "Full time employment",
          "Full time employment",
          "Full time employment",
          "Full time employment",
          "Part time employment",
          "Full time employment",
          "Full time employment",
          "Full time employment",
          "College/university",
          "Full time employment",
          "Other",
          "Full time employment",
          "Part time employment",
          "Full time employment",
          "Full time employment",
          "Work from home",
          "Full time employment",
          "Full time employment",
          "Retired",
          "Full time employment",
          "Full time employment",
          "Full time employment",
          "Full time employment",
          "Full time employment",
          "Part time employment",
          "Retired",
          "Part time employment",
          "College/university",
          "Full time employment",
          "Part time employment",
          "Full time employment",
          "Full time employment",
          "Full time employment",
          "Full time employment",
          "Unknown",
          "Part time employment",
          "Unknown",
          "Housework",
          "Retired",
          "Retired",
          "Full time employment",
          "Full time employment",
          "Unknown",
          "Full time employment",
          "Retired",
          "Retired",
          "Retired",
          "Part time employment",
          "Retired",
          "Unknown",
          "Full time employment",
          "Unknown",
          "Unknown",
          "Full time employment",
          "Full time employment",
          "Other",
          "Retired",
          "Retired",
          "Retired",
          "Retired",
          "Unemployed",
          "Full time employment",
          "Full time employment",
          "Housework",
          "Retired",
          "Retired",
          "Full time employment",
          "Part time employment",
          "Other",
          "Other",
          "Full time employment",
          "Full time employment",
          "Part time employment",
          "Unknown",
          "Retired",
          "Retired",
          "Full time employment",
          "Retired",
          "Retired",
          "Full time employment",
          "Retired",
          "Retired",
          "Retired",
          "Retired",
          "Full time employment",
          "Other",
          "Full time employment",
          "Full time employment",
          "College/university",
          "Retired",
          "Retired",
          "Work from home",
          "Full time employment",
          "Full time employment",
          "Part time employment",
          "Housework",
          "Part time employment",
          "Retired",
          "Part time employment",
          "Full time employment",
          "Part time employment",
          "Part time employment",
          "Full time employment",
          "Part time employment",
          "Housework",
          "Retired",
          "Part time employment",
          "Retired",
          "Full time employment",
          "Full time employment",
          "Housework",
          "Full time employment",
          "Full time employment",
          "Retired",
          "Retired",
          "Full time employment",
          "Part time employment",
          "Retired",
          "Retired",
          "Part time employment",
          "Other",
          "Full time employment",
          "College/university",
          "College/university",
          "Work from home",
          "Full time employment",
          "Part time employment",
          "Part time employment",
          "Full time employment",
          "Retired",
          "Retired",
          "Full time employment",
          "Full time employment",
          "Retired",
          "Full time employment",
          "Full time employment",
          "Full time employment",
          "Retired",
          "Other",
          "Retired",
          "Retired",
          "Retired",
          "Retired",
          "Part time employment",
          "Full time employment",
          "Retired",
          "Full time employment",
          "Full time employment",
          "Work from home",
          "Work from home",
          "Retired",
          "Part time employment",
          "Retired",
          "Retired",
          "Retired",
          "Retired",
          "Retired",
          "Retired",
          "Retired",
          "Retired",
          "Full time employment",
          "Full time employment",
          "Retired",
          "Full time employment",
          "Full time employment",
          "Retired",
          "Full time employment",
          "Full time employment",
          "Full time employment",
          "Retired",
          "Part time employment",
          "Retired",
          "Retired",
          "Retired",
          "Part time employment",
          "Work from home",
          "Retired",
          "Retired",
          "Retired",
          "Retired",
          "Retired",
          "Retired",
          "Retired",
          "Retired",
          "Retired",
          "Retired",
          "Retired",
          "Retired",
          "Retired",
          "Retired",
          "Retired",
          "Retired",
          "Retired",
          "Part time employment",
          "Retired",
          "Retired",
          "Retired",
          "Full time employment",
          "Retired",
          "Retired",
          "Part time employment",
          "Full time employment",
          "Full time employment",
          "Retired",
          "Full time employment",
          "Retired",
          "Full time employment",
          "Retired",
          "Full time employment",
          "Full time employment",
          "Full time employment",
          "Full time employment",
          "Full time employment",
          "Retired",
          "Full time employment",
          "Retired",
          "Part time employment",
          "Retired",
          "Full time employment",
          "Retired",
          "Retired",
          "Retired",
          "Full time employment",
          "Full time employment",
          "Full time employment",
          "Part time employment",
          "Part time employment",
          "Full time employment",
          "Retired",
          "Full time employment",
          "Unknown",
          "Retired",
          "Retired",
          "Full time employment",
          "Retired",
          "Retired",
          "Unemployed",
          "Other",
          "Retired",
          "Retired",
          "Full time employment",
          "Work from home",
          "Full time employment",
          "Retired",
          "Full time employment",
          "Full time employment",
          "Full time employment",
          "Full time employment",
          "Full time employment",
          "Full time employment",
          "Housework",
          "Unemployed",
          "Full time employment",
          "Retired",
          "Full time employment",
          "Full time employment",
          "Full time employment",
          "Full time employment",
          "Full time employment",
          "Full time employment",
          "Full time employment",
          "Full time employment",
          "Full time employment",
          "Retired",
          "Full time employment",
          "Other",
          "Retired",
          "Work from home",
          "Full time employment",
          "Full time employment",
          "Full time employment",
          "Full time employment",
          "Full time employment",
          "Full time employment",
          "Part time employment",
          "Retired",
          "Other",
          "Retired",
          "Part time employment",
          "Full time employment",
          "Retired",
          "Full time employment",
          "Full time employment",
          "Full time employment",
          "Full time employment",
          "Full time employment",
          "Full time employment",
          "Full time employment",
          "College/university",
          "Full time employment",
          "Work from home",
          "Full time employment",
          "Full time employment",
          "Part time employment",
          "Retired",
          "Full time employment",
          "Full time employment",
          "Full time employment",
          "Part time employment",
          "Full time employment",
          "Full time employment",
          "Full time employment",
          "Full time employment",
          "Retired",
          "Retired",
          "Retired",
          "Full time employment",
          "Unemployed",
          "Retired",
          "Unemployed",
          "Other",
          "Full time employment",
          "Full time employment",
          "Full time employment"
         ],
         "legendgroup": "",
         "name": "",
         "showlegend": true,
         "type": "pie"
        }
       ],
       "layout": {
        "height": 600,
        "legend": {
         "tracegroupgap": 0
        },
        "template": {
         "data": {
          "bar": [
           {
            "error_x": {
             "color": "#2a3f5f"
            },
            "error_y": {
             "color": "#2a3f5f"
            },
            "marker": {
             "line": {
              "color": "#E5ECF6",
              "width": 0.5
             },
             "pattern": {
              "fillmode": "overlay",
              "size": 10,
              "solidity": 0.2
             }
            },
            "type": "bar"
           }
          ],
          "barpolar": [
           {
            "marker": {
             "line": {
              "color": "#E5ECF6",
              "width": 0.5
             },
             "pattern": {
              "fillmode": "overlay",
              "size": 10,
              "solidity": 0.2
             }
            },
            "type": "barpolar"
           }
          ],
          "carpet": [
           {
            "aaxis": {
             "endlinecolor": "#2a3f5f",
             "gridcolor": "white",
             "linecolor": "white",
             "minorgridcolor": "white",
             "startlinecolor": "#2a3f5f"
            },
            "baxis": {
             "endlinecolor": "#2a3f5f",
             "gridcolor": "white",
             "linecolor": "white",
             "minorgridcolor": "white",
             "startlinecolor": "#2a3f5f"
            },
            "type": "carpet"
           }
          ],
          "choropleth": [
           {
            "colorbar": {
             "outlinewidth": 0,
             "ticks": ""
            },
            "type": "choropleth"
           }
          ],
          "contour": [
           {
            "colorbar": {
             "outlinewidth": 0,
             "ticks": ""
            },
            "colorscale": [
             [
              0,
              "#0d0887"
             ],
             [
              0.1111111111111111,
              "#46039f"
             ],
             [
              0.2222222222222222,
              "#7201a8"
             ],
             [
              0.3333333333333333,
              "#9c179e"
             ],
             [
              0.4444444444444444,
              "#bd3786"
             ],
             [
              0.5555555555555556,
              "#d8576b"
             ],
             [
              0.6666666666666666,
              "#ed7953"
             ],
             [
              0.7777777777777778,
              "#fb9f3a"
             ],
             [
              0.8888888888888888,
              "#fdca26"
             ],
             [
              1,
              "#f0f921"
             ]
            ],
            "type": "contour"
           }
          ],
          "contourcarpet": [
           {
            "colorbar": {
             "outlinewidth": 0,
             "ticks": ""
            },
            "type": "contourcarpet"
           }
          ],
          "heatmap": [
           {
            "colorbar": {
             "outlinewidth": 0,
             "ticks": ""
            },
            "colorscale": [
             [
              0,
              "#0d0887"
             ],
             [
              0.1111111111111111,
              "#46039f"
             ],
             [
              0.2222222222222222,
              "#7201a8"
             ],
             [
              0.3333333333333333,
              "#9c179e"
             ],
             [
              0.4444444444444444,
              "#bd3786"
             ],
             [
              0.5555555555555556,
              "#d8576b"
             ],
             [
              0.6666666666666666,
              "#ed7953"
             ],
             [
              0.7777777777777778,
              "#fb9f3a"
             ],
             [
              0.8888888888888888,
              "#fdca26"
             ],
             [
              1,
              "#f0f921"
             ]
            ],
            "type": "heatmap"
           }
          ],
          "heatmapgl": [
           {
            "colorbar": {
             "outlinewidth": 0,
             "ticks": ""
            },
            "colorscale": [
             [
              0,
              "#0d0887"
             ],
             [
              0.1111111111111111,
              "#46039f"
             ],
             [
              0.2222222222222222,
              "#7201a8"
             ],
             [
              0.3333333333333333,
              "#9c179e"
             ],
             [
              0.4444444444444444,
              "#bd3786"
             ],
             [
              0.5555555555555556,
              "#d8576b"
             ],
             [
              0.6666666666666666,
              "#ed7953"
             ],
             [
              0.7777777777777778,
              "#fb9f3a"
             ],
             [
              0.8888888888888888,
              "#fdca26"
             ],
             [
              1,
              "#f0f921"
             ]
            ],
            "type": "heatmapgl"
           }
          ],
          "histogram": [
           {
            "marker": {
             "pattern": {
              "fillmode": "overlay",
              "size": 10,
              "solidity": 0.2
             }
            },
            "type": "histogram"
           }
          ],
          "histogram2d": [
           {
            "colorbar": {
             "outlinewidth": 0,
             "ticks": ""
            },
            "colorscale": [
             [
              0,
              "#0d0887"
             ],
             [
              0.1111111111111111,
              "#46039f"
             ],
             [
              0.2222222222222222,
              "#7201a8"
             ],
             [
              0.3333333333333333,
              "#9c179e"
             ],
             [
              0.4444444444444444,
              "#bd3786"
             ],
             [
              0.5555555555555556,
              "#d8576b"
             ],
             [
              0.6666666666666666,
              "#ed7953"
             ],
             [
              0.7777777777777778,
              "#fb9f3a"
             ],
             [
              0.8888888888888888,
              "#fdca26"
             ],
             [
              1,
              "#f0f921"
             ]
            ],
            "type": "histogram2d"
           }
          ],
          "histogram2dcontour": [
           {
            "colorbar": {
             "outlinewidth": 0,
             "ticks": ""
            },
            "colorscale": [
             [
              0,
              "#0d0887"
             ],
             [
              0.1111111111111111,
              "#46039f"
             ],
             [
              0.2222222222222222,
              "#7201a8"
             ],
             [
              0.3333333333333333,
              "#9c179e"
             ],
             [
              0.4444444444444444,
              "#bd3786"
             ],
             [
              0.5555555555555556,
              "#d8576b"
             ],
             [
              0.6666666666666666,
              "#ed7953"
             ],
             [
              0.7777777777777778,
              "#fb9f3a"
             ],
             [
              0.8888888888888888,
              "#fdca26"
             ],
             [
              1,
              "#f0f921"
             ]
            ],
            "type": "histogram2dcontour"
           }
          ],
          "mesh3d": [
           {
            "colorbar": {
             "outlinewidth": 0,
             "ticks": ""
            },
            "type": "mesh3d"
           }
          ],
          "parcoords": [
           {
            "line": {
             "colorbar": {
              "outlinewidth": 0,
              "ticks": ""
             }
            },
            "type": "parcoords"
           }
          ],
          "pie": [
           {
            "automargin": true,
            "type": "pie"
           }
          ],
          "scatter": [
           {
            "fillpattern": {
             "fillmode": "overlay",
             "size": 10,
             "solidity": 0.2
            },
            "type": "scatter"
           }
          ],
          "scatter3d": [
           {
            "line": {
             "colorbar": {
              "outlinewidth": 0,
              "ticks": ""
             }
            },
            "marker": {
             "colorbar": {
              "outlinewidth": 0,
              "ticks": ""
             }
            },
            "type": "scatter3d"
           }
          ],
          "scattercarpet": [
           {
            "marker": {
             "colorbar": {
              "outlinewidth": 0,
              "ticks": ""
             }
            },
            "type": "scattercarpet"
           }
          ],
          "scattergeo": [
           {
            "marker": {
             "colorbar": {
              "outlinewidth": 0,
              "ticks": ""
             }
            },
            "type": "scattergeo"
           }
          ],
          "scattergl": [
           {
            "marker": {
             "colorbar": {
              "outlinewidth": 0,
              "ticks": ""
             }
            },
            "type": "scattergl"
           }
          ],
          "scattermapbox": [
           {
            "marker": {
             "colorbar": {
              "outlinewidth": 0,
              "ticks": ""
             }
            },
            "type": "scattermapbox"
           }
          ],
          "scatterpolar": [
           {
            "marker": {
             "colorbar": {
              "outlinewidth": 0,
              "ticks": ""
             }
            },
            "type": "scatterpolar"
           }
          ],
          "scatterpolargl": [
           {
            "marker": {
             "colorbar": {
              "outlinewidth": 0,
              "ticks": ""
             }
            },
            "type": "scatterpolargl"
           }
          ],
          "scatterternary": [
           {
            "marker": {
             "colorbar": {
              "outlinewidth": 0,
              "ticks": ""
             }
            },
            "type": "scatterternary"
           }
          ],
          "surface": [
           {
            "colorbar": {
             "outlinewidth": 0,
             "ticks": ""
            },
            "colorscale": [
             [
              0,
              "#0d0887"
             ],
             [
              0.1111111111111111,
              "#46039f"
             ],
             [
              0.2222222222222222,
              "#7201a8"
             ],
             [
              0.3333333333333333,
              "#9c179e"
             ],
             [
              0.4444444444444444,
              "#bd3786"
             ],
             [
              0.5555555555555556,
              "#d8576b"
             ],
             [
              0.6666666666666666,
              "#ed7953"
             ],
             [
              0.7777777777777778,
              "#fb9f3a"
             ],
             [
              0.8888888888888888,
              "#fdca26"
             ],
             [
              1,
              "#f0f921"
             ]
            ],
            "type": "surface"
           }
          ],
          "table": [
           {
            "cells": {
             "fill": {
              "color": "#EBF0F8"
             },
             "line": {
              "color": "white"
             }
            },
            "header": {
             "fill": {
              "color": "#C8D4E3"
             },
             "line": {
              "color": "white"
             }
            },
            "type": "table"
           }
          ]
         },
         "layout": {
          "annotationdefaults": {
           "arrowcolor": "#2a3f5f",
           "arrowhead": 0,
           "arrowwidth": 1
          },
          "autotypenumbers": "strict",
          "coloraxis": {
           "colorbar": {
            "outlinewidth": 0,
            "ticks": ""
           }
          },
          "colorscale": {
           "diverging": [
            [
             0,
             "#8e0152"
            ],
            [
             0.1,
             "#c51b7d"
            ],
            [
             0.2,
             "#de77ae"
            ],
            [
             0.3,
             "#f1b6da"
            ],
            [
             0.4,
             "#fde0ef"
            ],
            [
             0.5,
             "#f7f7f7"
            ],
            [
             0.6,
             "#e6f5d0"
            ],
            [
             0.7,
             "#b8e186"
            ],
            [
             0.8,
             "#7fbc41"
            ],
            [
             0.9,
             "#4d9221"
            ],
            [
             1,
             "#276419"
            ]
           ],
           "sequential": [
            [
             0,
             "#0d0887"
            ],
            [
             0.1111111111111111,
             "#46039f"
            ],
            [
             0.2222222222222222,
             "#7201a8"
            ],
            [
             0.3333333333333333,
             "#9c179e"
            ],
            [
             0.4444444444444444,
             "#bd3786"
            ],
            [
             0.5555555555555556,
             "#d8576b"
            ],
            [
             0.6666666666666666,
             "#ed7953"
            ],
            [
             0.7777777777777778,
             "#fb9f3a"
            ],
            [
             0.8888888888888888,
             "#fdca26"
            ],
            [
             1,
             "#f0f921"
            ]
           ],
           "sequentialminus": [
            [
             0,
             "#0d0887"
            ],
            [
             0.1111111111111111,
             "#46039f"
            ],
            [
             0.2222222222222222,
             "#7201a8"
            ],
            [
             0.3333333333333333,
             "#9c179e"
            ],
            [
             0.4444444444444444,
             "#bd3786"
            ],
            [
             0.5555555555555556,
             "#d8576b"
            ],
            [
             0.6666666666666666,
             "#ed7953"
            ],
            [
             0.7777777777777778,
             "#fb9f3a"
            ],
            [
             0.8888888888888888,
             "#fdca26"
            ],
            [
             1,
             "#f0f921"
            ]
           ]
          },
          "colorway": [
           "#636efa",
           "#EF553B",
           "#00cc96",
           "#ab63fa",
           "#FFA15A",
           "#19d3f3",
           "#FF6692",
           "#B6E880",
           "#FF97FF",
           "#FECB52"
          ],
          "font": {
           "color": "#2a3f5f"
          },
          "geo": {
           "bgcolor": "white",
           "lakecolor": "white",
           "landcolor": "#E5ECF6",
           "showlakes": true,
           "showland": true,
           "subunitcolor": "white"
          },
          "hoverlabel": {
           "align": "left"
          },
          "hovermode": "closest",
          "mapbox": {
           "style": "light"
          },
          "paper_bgcolor": "white",
          "plot_bgcolor": "#E5ECF6",
          "polar": {
           "angularaxis": {
            "gridcolor": "white",
            "linecolor": "white",
            "ticks": ""
           },
           "bgcolor": "#E5ECF6",
           "radialaxis": {
            "gridcolor": "white",
            "linecolor": "white",
            "ticks": ""
           }
          },
          "scene": {
           "xaxis": {
            "backgroundcolor": "#E5ECF6",
            "gridcolor": "white",
            "gridwidth": 2,
            "linecolor": "white",
            "showbackground": true,
            "ticks": "",
            "zerolinecolor": "white"
           },
           "yaxis": {
            "backgroundcolor": "#E5ECF6",
            "gridcolor": "white",
            "gridwidth": 2,
            "linecolor": "white",
            "showbackground": true,
            "ticks": "",
            "zerolinecolor": "white"
           },
           "zaxis": {
            "backgroundcolor": "#E5ECF6",
            "gridcolor": "white",
            "gridwidth": 2,
            "linecolor": "white",
            "showbackground": true,
            "ticks": "",
            "zerolinecolor": "white"
           }
          },
          "shapedefaults": {
           "line": {
            "color": "#2a3f5f"
           }
          },
          "ternary": {
           "aaxis": {
            "gridcolor": "white",
            "linecolor": "white",
            "ticks": ""
           },
           "baxis": {
            "gridcolor": "white",
            "linecolor": "white",
            "ticks": ""
           },
           "bgcolor": "#E5ECF6",
           "caxis": {
            "gridcolor": "white",
            "linecolor": "white",
            "ticks": ""
           }
          },
          "title": {
           "x": 0.05
          },
          "xaxis": {
           "automargin": true,
           "gridcolor": "white",
           "linecolor": "white",
           "ticks": "",
           "title": {
            "standoff": 15
           },
           "zerolinecolor": "white",
           "zerolinewidth": 2
          },
          "yaxis": {
           "automargin": true,
           "gridcolor": "white",
           "linecolor": "white",
           "ticks": "",
           "title": {
            "standoff": 15
           },
           "zerolinecolor": "white",
           "zerolinewidth": 2
          }
         }
        },
        "title": {
         "text": "Distribucija zanimanja ispitanika"
        },
        "width": 800
       }
      }
     },
     "metadata": {},
     "output_type": "display_data"
    }
   ],
   "source": [
    "fig4 = px.pie(metadata_df, names=\"OCCUPATION_ID\", title=\"Distribucija zanimanja ispitanika\", hole=0.3)\n",
    "fig4.update_layout(width=800, height=600)\n",
    "fig4.show()"
   ]
  },
  {
   "cell_type": "code",
   "execution_count": 24,
   "metadata": {},
   "outputs": [
    {
     "data": {
      "application/vnd.plotly.v1+json": {
       "config": {
        "plotlyServerURL": "https://plot.ly"
       },
       "data": [
        {
         "domain": {
          "x": [
           0,
           1
          ],
          "y": [
           0,
           1
          ]
         },
         "hole": 0.3,
         "hovertemplate": "QUALIFICATION_ID=%{label}<extra></extra>",
         "labels": [
          "University or Polytechnic degree",
          "University or Polytechnic degree",
          "University or Polytechnic degree",
          "University or Polytechnic degree",
          "University or Polytechnic degree",
          "University or Polytechnic degree",
          "Further education/NVQ",
          "Further education/NVQ",
          "A-level",
          "University or Polytechnic degree",
          "University or Polytechnic degree",
          "University or Polytechnic degree",
          "University or Polytechnic degree",
          "University or Polytechnic degree",
          "University or Polytechnic degree",
          "A-level",
          "University or Polytechnic degree",
          "University or Polytechnic degree",
          "University or Polytechnic degree",
          "University or Polytechnic degree",
          "University or Polytechnic degree",
          "Unknown",
          "A-level",
          "University or Polytechnic degree",
          "A-level",
          "University or Polytechnic degree",
          "University or Polytechnic degree",
          "University or Polytechnic degree",
          "University or Polytechnic degree",
          "University or Polytechnic degree",
          "University or Polytechnic degree",
          "University or Polytechnic degree",
          "University or Polytechnic degree",
          "University or Polytechnic degree",
          "University or Polytechnic degree",
          "University or Polytechnic degree",
          "University or Polytechnic degree",
          "Further education/NVQ",
          "University or Polytechnic degree",
          "University or Polytechnic degree",
          "University or Polytechnic degree",
          "University or Polytechnic degree",
          "University or Polytechnic degree",
          "University or Polytechnic degree",
          "University or Polytechnic degree",
          "University or Polytechnic degree",
          "Further education/NVQ",
          "University or Polytechnic degree",
          "A-level",
          "A-level",
          "University or Polytechnic degree",
          "University or Polytechnic degree",
          "University or Polytechnic degree",
          "University or Polytechnic degree",
          "University or Polytechnic degree",
          "A-level",
          "Further education/NVQ",
          "Further education/NVQ",
          "A-level",
          "Unknown",
          "Further education/NVQ",
          "Further education/NVQ",
          "University or Polytechnic degree",
          "University or Polytechnic degree",
          "Further education/NVQ",
          "University or Polytechnic degree",
          "University or Polytechnic degree",
          "Further education/NVQ",
          "University or Polytechnic degree",
          "University or Polytechnic degree",
          "University or Polytechnic degree",
          "University or Polytechnic degree",
          "University or Polytechnic degree",
          "University or Polytechnic degree",
          "Further education/NVQ",
          "University or Polytechnic degree",
          "University or Polytechnic degree",
          "University or Polytechnic degree",
          "University or Polytechnic degree",
          "University or Polytechnic degree",
          "University or Polytechnic degree",
          "Further education/NVQ",
          "O-level/GCSE/CSE",
          "Further education/NVQ",
          "University or Polytechnic degree",
          "University or Polytechnic degree",
          "University or Polytechnic degree",
          "Further education/NVQ",
          "University or Polytechnic degree",
          "University or Polytechnic degree",
          "University or Polytechnic degree",
          "University or Polytechnic degree",
          "University or Polytechnic degree",
          "University or Polytechnic degree",
          "University or Polytechnic degree",
          "University or Polytechnic degree",
          "University or Polytechnic degree",
          "University or Polytechnic degree",
          "University or Polytechnic degree",
          "University or Polytechnic degree",
          "O-level/GCSE/CSE",
          "University or Polytechnic degree",
          "University or Polytechnic degree",
          "Further education/NVQ",
          "Further education/NVQ",
          "University or Polytechnic degree",
          "University or Polytechnic degree",
          "University or Polytechnic degree",
          "Further education/NVQ",
          "O-level/GCSE/CSE",
          "University or Polytechnic degree",
          "University or Polytechnic degree",
          "University or Polytechnic degree",
          "University or Polytechnic degree",
          "University or Polytechnic degree",
          "University or Polytechnic degree",
          "University or Polytechnic degree",
          "Unknown",
          "Further education/NVQ",
          "University or Polytechnic degree",
          "University or Polytechnic degree",
          "University or Polytechnic degree",
          "Further education/NVQ",
          "Further education/NVQ",
          "A-level",
          "University or Polytechnic degree",
          "University or Polytechnic degree",
          "University or Polytechnic degree",
          "Further education/NVQ",
          "None",
          "University or Polytechnic degree",
          "O-level/GCSE/CSE",
          "University or Polytechnic degree",
          "University or Polytechnic degree",
          "None",
          "University or Polytechnic degree",
          "O-level/GCSE/CSE",
          "Further education/NVQ",
          "University or Polytechnic degree",
          "University or Polytechnic degree",
          "University or Polytechnic degree",
          "University or Polytechnic degree",
          "None",
          "University or Polytechnic degree",
          "University or Polytechnic degree",
          "University or Polytechnic degree",
          "O-level/GCSE/CSE",
          "O-level/GCSE/CSE",
          "University or Polytechnic degree",
          "University or Polytechnic degree",
          "University or Polytechnic degree",
          "University or Polytechnic degree",
          "University or Polytechnic degree",
          "University or Polytechnic degree",
          "University or Polytechnic degree",
          "University or Polytechnic degree",
          "University or Polytechnic degree",
          "University or Polytechnic degree",
          "O-level/GCSE/CSE",
          "Further education/NVQ",
          "University or Polytechnic degree",
          "Further education/NVQ",
          "O-level/GCSE/CSE",
          "Further education/NVQ",
          "University or Polytechnic degree",
          "University or Polytechnic degree",
          "University or Polytechnic degree",
          "Unknown",
          "University or Polytechnic degree",
          "University or Polytechnic degree",
          "None",
          "University or Polytechnic degree",
          "None",
          "O-level/GCSE/CSE",
          "Further education/NVQ",
          "University or Polytechnic degree",
          "University or Polytechnic degree",
          "Further education/NVQ",
          "University or Polytechnic degree",
          "A-level",
          "O-level/GCSE/CSE",
          "O-level/GCSE/CSE",
          "University or Polytechnic degree",
          "Further education/NVQ",
          "O-level/GCSE/CSE",
          "University or Polytechnic degree",
          "Unknown",
          "University or Polytechnic degree",
          "University or Polytechnic degree",
          "Further education/NVQ",
          "Further education/NVQ",
          "University or Polytechnic degree",
          "University or Polytechnic degree",
          "None",
          "None",
          "A-level",
          "Unknown",
          "University or Polytechnic degree",
          "University or Polytechnic degree",
          "University or Polytechnic degree",
          "University or Polytechnic degree",
          "University or Polytechnic degree",
          "University or Polytechnic degree",
          "University or Polytechnic degree",
          "University or Polytechnic degree",
          "Unknown",
          "University or Polytechnic degree",
          "University or Polytechnic degree",
          "University or Polytechnic degree",
          "University or Polytechnic degree",
          "University or Polytechnic degree",
          "University or Polytechnic degree",
          "University or Polytechnic degree",
          "None",
          "O-level/GCSE/CSE",
          "University or Polytechnic degree",
          "University or Polytechnic degree",
          "Further education/NVQ",
          "University or Polytechnic degree",
          "Further education/NVQ",
          "University or Polytechnic degree",
          "O-level/GCSE/CSE",
          "University or Polytechnic degree",
          "University or Polytechnic degree",
          "A-level",
          "University or Polytechnic degree",
          "Further education/NVQ",
          "University or Polytechnic degree",
          "Further education/NVQ",
          "University or Polytechnic degree",
          "University or Polytechnic degree",
          "University or Polytechnic degree",
          "University or Polytechnic degree",
          "Further education/NVQ",
          "University or Polytechnic degree",
          "A-level",
          "University or Polytechnic degree",
          "A-level",
          "University or Polytechnic degree",
          "Further education/NVQ",
          "Further education/NVQ",
          "O-level/GCSE/CSE",
          "University or Polytechnic degree",
          "University or Polytechnic degree",
          "A-level",
          "University or Polytechnic degree",
          "University or Polytechnic degree",
          "Further education/NVQ",
          "University or Polytechnic degree",
          "University or Polytechnic degree",
          "University or Polytechnic degree",
          "University or Polytechnic degree",
          "O-level/GCSE/CSE",
          "Further education/NVQ",
          "University or Polytechnic degree",
          "A-level",
          "University or Polytechnic degree",
          "University or Polytechnic degree",
          "University or Polytechnic degree",
          "University or Polytechnic degree",
          "O-level/GCSE/CSE",
          "O-level/GCSE/CSE",
          "University or Polytechnic degree",
          "University or Polytechnic degree",
          "University or Polytechnic degree",
          "University or Polytechnic degree",
          "University or Polytechnic degree",
          "Further education/NVQ",
          "University or Polytechnic degree",
          "University or Polytechnic degree",
          "A-level",
          "Further education/NVQ",
          "University or Polytechnic degree",
          "University or Polytechnic degree",
          "Further education/NVQ",
          "University or Polytechnic degree",
          "University or Polytechnic degree",
          "Unknown",
          "University or Polytechnic degree",
          "Unknown",
          "None",
          "O-level/GCSE/CSE",
          "A-level",
          "O-level/GCSE/CSE",
          "University or Polytechnic degree",
          "Unknown",
          "A-level",
          "University or Polytechnic degree",
          "University or Polytechnic degree",
          "University or Polytechnic degree",
          "Further education/NVQ",
          "Unknown",
          "Unknown",
          "O-level/GCSE/CSE",
          "Unknown",
          "Unknown",
          "Further education/NVQ",
          "University or Polytechnic degree",
          "None",
          "A-level",
          "Further education/NVQ",
          "None",
          "None",
          "Further education/NVQ",
          "Further education/NVQ",
          "Further education/NVQ",
          "University or Polytechnic degree",
          "None",
          "None",
          "Further education/NVQ",
          "Further education/NVQ",
          "O-level/GCSE/CSE",
          "University or Polytechnic degree",
          "University or Polytechnic degree",
          "A-level",
          "O-level/GCSE/CSE",
          "Unknown",
          "University or Polytechnic degree",
          "Further education/NVQ",
          "Further education/NVQ",
          "A-level",
          "O-level/GCSE/CSE",
          "Further education/NVQ",
          "O-level/GCSE/CSE",
          "None",
          "None",
          "O-level/GCSE/CSE",
          "University or Polytechnic degree",
          "O-level/GCSE/CSE",
          "University or Polytechnic degree",
          "None",
          "Further education/NVQ",
          "Further education/NVQ",
          "Further education/NVQ",
          "Further education/NVQ",
          "University or Polytechnic degree",
          "University or Polytechnic degree",
          "University or Polytechnic degree",
          "Unknown",
          "Unknown",
          "A-level",
          "None",
          "None",
          "Further education/NVQ",
          "O-level/GCSE/CSE",
          "University or Polytechnic degree",
          "Further education/NVQ",
          "Further education/NVQ",
          "Further education/NVQ",
          "Further education/NVQ",
          "None",
          "Further education/NVQ",
          "A-level",
          "Further education/NVQ",
          "A-level",
          "Further education/NVQ",
          "Further education/NVQ",
          "University or Polytechnic degree",
          "None",
          "O-level/GCSE/CSE",
          "University or Polytechnic degree",
          "Further education/NVQ",
          "University or Polytechnic degree",
          "University or Polytechnic degree",
          "Further education/NVQ",
          "University or Polytechnic degree",
          "University or Polytechnic degree",
          "University or Polytechnic degree",
          "Further education/NVQ",
          "Further education/NVQ",
          "University or Polytechnic degree",
          "University or Polytechnic degree",
          "University or Polytechnic degree",
          "Further education/NVQ",
          "None",
          "None",
          "Further education/NVQ",
          "O-level/GCSE/CSE",
          "Further education/NVQ",
          "University or Polytechnic degree",
          "University or Polytechnic degree",
          "Further education/NVQ",
          "University or Polytechnic degree",
          "University or Polytechnic degree",
          "Further education/NVQ",
          "University or Polytechnic degree",
          "Further education/NVQ",
          "None",
          "University or Polytechnic degree",
          "University or Polytechnic degree",
          "University or Polytechnic degree",
          "O-level/GCSE/CSE",
          "University or Polytechnic degree",
          "University or Polytechnic degree",
          "O-level/GCSE/CSE",
          "Further education/NVQ",
          "Further education/NVQ",
          "Further education/NVQ",
          "Further education/NVQ",
          "University or Polytechnic degree",
          "O-level/GCSE/CSE",
          "None",
          "University or Polytechnic degree",
          "University or Polytechnic degree",
          "University or Polytechnic degree",
          "Further education/NVQ",
          "University or Polytechnic degree",
          "A-level",
          "Further education/NVQ",
          "University or Polytechnic degree",
          "University or Polytechnic degree",
          "None",
          "None",
          "None",
          "University or Polytechnic degree",
          "University or Polytechnic degree",
          "Further education/NVQ",
          "Further education/NVQ",
          "University or Polytechnic degree",
          "University or Polytechnic degree",
          "Further education/NVQ",
          "University or Polytechnic degree",
          "None",
          "University or Polytechnic degree",
          "University or Polytechnic degree",
          "None",
          "A-level",
          "University or Polytechnic degree",
          "A-level",
          "None",
          "University or Polytechnic degree",
          "University or Polytechnic degree",
          "Further education/NVQ",
          "University or Polytechnic degree",
          "University or Polytechnic degree",
          "University or Polytechnic degree",
          "None",
          "O-level/GCSE/CSE",
          "None",
          "O-level/GCSE/CSE",
          "University or Polytechnic degree",
          "O-level/GCSE/CSE",
          "University or Polytechnic degree",
          "Further education/NVQ",
          "O-level/GCSE/CSE",
          "Further education/NVQ",
          "None",
          "Further education/NVQ",
          "None",
          "University or Polytechnic degree",
          "University or Polytechnic degree",
          "University or Polytechnic degree",
          "University or Polytechnic degree",
          "None",
          "Further education/NVQ",
          "University or Polytechnic degree",
          "University or Polytechnic degree",
          "Further education/NVQ",
          "Further education/NVQ",
          "None",
          "O-level/GCSE/CSE",
          "University or Polytechnic degree",
          "University or Polytechnic degree",
          "University or Polytechnic degree",
          "Further education/NVQ",
          "University or Polytechnic degree",
          "University or Polytechnic degree",
          "University or Polytechnic degree",
          "O-level/GCSE/CSE",
          "University or Polytechnic degree",
          "University or Polytechnic degree",
          "University or Polytechnic degree",
          "University or Polytechnic degree",
          "Unknown",
          "University or Polytechnic degree",
          "None",
          "University or Polytechnic degree",
          "Further education/NVQ",
          "None",
          "O-level/GCSE/CSE",
          "University or Polytechnic degree",
          "University or Polytechnic degree",
          "A-level",
          "University or Polytechnic degree",
          "University or Polytechnic degree",
          "University or Polytechnic degree",
          "None",
          "O-level/GCSE/CSE",
          "University or Polytechnic degree",
          "O-level/GCSE/CSE",
          "University or Polytechnic degree",
          "University or Polytechnic degree",
          "University or Polytechnic degree",
          "University or Polytechnic degree",
          "O-level/GCSE/CSE",
          "Further education/NVQ",
          "Further education/NVQ",
          "None",
          "University or Polytechnic degree",
          "University or Polytechnic degree",
          "University or Polytechnic degree",
          "University or Polytechnic degree",
          "University or Polytechnic degree",
          "University or Polytechnic degree",
          "University or Polytechnic degree",
          "Further education/NVQ",
          "A-level",
          "University or Polytechnic degree",
          "Further education/NVQ",
          "University or Polytechnic degree",
          "University or Polytechnic degree",
          "University or Polytechnic degree",
          "O-level/GCSE/CSE",
          "Further education/NVQ",
          "O-level/GCSE/CSE",
          "University or Polytechnic degree",
          "University or Polytechnic degree",
          "O-level/GCSE/CSE",
          "O-level/GCSE/CSE",
          "University or Polytechnic degree",
          "None",
          "University or Polytechnic degree",
          "University or Polytechnic degree",
          "Further education/NVQ",
          "O-level/GCSE/CSE",
          "University or Polytechnic degree",
          "University or Polytechnic degree",
          "University or Polytechnic degree",
          "A-level",
          "A-level",
          "A-level",
          "O-level/GCSE/CSE",
          "University or Polytechnic degree",
          "University or Polytechnic degree",
          "University or Polytechnic degree",
          "Further education/NVQ",
          "Further education/NVQ",
          "None",
          "Further education/NVQ",
          "University or Polytechnic degree",
          "A-level",
          "Further education/NVQ",
          "University or Polytechnic degree",
          "University or Polytechnic degree",
          "University or Polytechnic degree",
          "University or Polytechnic degree",
          "University or Polytechnic degree",
          "None",
          "University or Polytechnic degree",
          "University or Polytechnic degree",
          "O-level/GCSE/CSE",
          "A-level",
          "Further education/NVQ",
          "O-level/GCSE/CSE",
          "University or Polytechnic degree",
          "University or Polytechnic degree",
          "A-level"
         ],
         "legendgroup": "",
         "name": "",
         "showlegend": true,
         "type": "pie"
        }
       ],
       "layout": {
        "height": 600,
        "legend": {
         "tracegroupgap": 0
        },
        "template": {
         "data": {
          "bar": [
           {
            "error_x": {
             "color": "#2a3f5f"
            },
            "error_y": {
             "color": "#2a3f5f"
            },
            "marker": {
             "line": {
              "color": "#E5ECF6",
              "width": 0.5
             },
             "pattern": {
              "fillmode": "overlay",
              "size": 10,
              "solidity": 0.2
             }
            },
            "type": "bar"
           }
          ],
          "barpolar": [
           {
            "marker": {
             "line": {
              "color": "#E5ECF6",
              "width": 0.5
             },
             "pattern": {
              "fillmode": "overlay",
              "size": 10,
              "solidity": 0.2
             }
            },
            "type": "barpolar"
           }
          ],
          "carpet": [
           {
            "aaxis": {
             "endlinecolor": "#2a3f5f",
             "gridcolor": "white",
             "linecolor": "white",
             "minorgridcolor": "white",
             "startlinecolor": "#2a3f5f"
            },
            "baxis": {
             "endlinecolor": "#2a3f5f",
             "gridcolor": "white",
             "linecolor": "white",
             "minorgridcolor": "white",
             "startlinecolor": "#2a3f5f"
            },
            "type": "carpet"
           }
          ],
          "choropleth": [
           {
            "colorbar": {
             "outlinewidth": 0,
             "ticks": ""
            },
            "type": "choropleth"
           }
          ],
          "contour": [
           {
            "colorbar": {
             "outlinewidth": 0,
             "ticks": ""
            },
            "colorscale": [
             [
              0,
              "#0d0887"
             ],
             [
              0.1111111111111111,
              "#46039f"
             ],
             [
              0.2222222222222222,
              "#7201a8"
             ],
             [
              0.3333333333333333,
              "#9c179e"
             ],
             [
              0.4444444444444444,
              "#bd3786"
             ],
             [
              0.5555555555555556,
              "#d8576b"
             ],
             [
              0.6666666666666666,
              "#ed7953"
             ],
             [
              0.7777777777777778,
              "#fb9f3a"
             ],
             [
              0.8888888888888888,
              "#fdca26"
             ],
             [
              1,
              "#f0f921"
             ]
            ],
            "type": "contour"
           }
          ],
          "contourcarpet": [
           {
            "colorbar": {
             "outlinewidth": 0,
             "ticks": ""
            },
            "type": "contourcarpet"
           }
          ],
          "heatmap": [
           {
            "colorbar": {
             "outlinewidth": 0,
             "ticks": ""
            },
            "colorscale": [
             [
              0,
              "#0d0887"
             ],
             [
              0.1111111111111111,
              "#46039f"
             ],
             [
              0.2222222222222222,
              "#7201a8"
             ],
             [
              0.3333333333333333,
              "#9c179e"
             ],
             [
              0.4444444444444444,
              "#bd3786"
             ],
             [
              0.5555555555555556,
              "#d8576b"
             ],
             [
              0.6666666666666666,
              "#ed7953"
             ],
             [
              0.7777777777777778,
              "#fb9f3a"
             ],
             [
              0.8888888888888888,
              "#fdca26"
             ],
             [
              1,
              "#f0f921"
             ]
            ],
            "type": "heatmap"
           }
          ],
          "heatmapgl": [
           {
            "colorbar": {
             "outlinewidth": 0,
             "ticks": ""
            },
            "colorscale": [
             [
              0,
              "#0d0887"
             ],
             [
              0.1111111111111111,
              "#46039f"
             ],
             [
              0.2222222222222222,
              "#7201a8"
             ],
             [
              0.3333333333333333,
              "#9c179e"
             ],
             [
              0.4444444444444444,
              "#bd3786"
             ],
             [
              0.5555555555555556,
              "#d8576b"
             ],
             [
              0.6666666666666666,
              "#ed7953"
             ],
             [
              0.7777777777777778,
              "#fb9f3a"
             ],
             [
              0.8888888888888888,
              "#fdca26"
             ],
             [
              1,
              "#f0f921"
             ]
            ],
            "type": "heatmapgl"
           }
          ],
          "histogram": [
           {
            "marker": {
             "pattern": {
              "fillmode": "overlay",
              "size": 10,
              "solidity": 0.2
             }
            },
            "type": "histogram"
           }
          ],
          "histogram2d": [
           {
            "colorbar": {
             "outlinewidth": 0,
             "ticks": ""
            },
            "colorscale": [
             [
              0,
              "#0d0887"
             ],
             [
              0.1111111111111111,
              "#46039f"
             ],
             [
              0.2222222222222222,
              "#7201a8"
             ],
             [
              0.3333333333333333,
              "#9c179e"
             ],
             [
              0.4444444444444444,
              "#bd3786"
             ],
             [
              0.5555555555555556,
              "#d8576b"
             ],
             [
              0.6666666666666666,
              "#ed7953"
             ],
             [
              0.7777777777777778,
              "#fb9f3a"
             ],
             [
              0.8888888888888888,
              "#fdca26"
             ],
             [
              1,
              "#f0f921"
             ]
            ],
            "type": "histogram2d"
           }
          ],
          "histogram2dcontour": [
           {
            "colorbar": {
             "outlinewidth": 0,
             "ticks": ""
            },
            "colorscale": [
             [
              0,
              "#0d0887"
             ],
             [
              0.1111111111111111,
              "#46039f"
             ],
             [
              0.2222222222222222,
              "#7201a8"
             ],
             [
              0.3333333333333333,
              "#9c179e"
             ],
             [
              0.4444444444444444,
              "#bd3786"
             ],
             [
              0.5555555555555556,
              "#d8576b"
             ],
             [
              0.6666666666666666,
              "#ed7953"
             ],
             [
              0.7777777777777778,
              "#fb9f3a"
             ],
             [
              0.8888888888888888,
              "#fdca26"
             ],
             [
              1,
              "#f0f921"
             ]
            ],
            "type": "histogram2dcontour"
           }
          ],
          "mesh3d": [
           {
            "colorbar": {
             "outlinewidth": 0,
             "ticks": ""
            },
            "type": "mesh3d"
           }
          ],
          "parcoords": [
           {
            "line": {
             "colorbar": {
              "outlinewidth": 0,
              "ticks": ""
             }
            },
            "type": "parcoords"
           }
          ],
          "pie": [
           {
            "automargin": true,
            "type": "pie"
           }
          ],
          "scatter": [
           {
            "fillpattern": {
             "fillmode": "overlay",
             "size": 10,
             "solidity": 0.2
            },
            "type": "scatter"
           }
          ],
          "scatter3d": [
           {
            "line": {
             "colorbar": {
              "outlinewidth": 0,
              "ticks": ""
             }
            },
            "marker": {
             "colorbar": {
              "outlinewidth": 0,
              "ticks": ""
             }
            },
            "type": "scatter3d"
           }
          ],
          "scattercarpet": [
           {
            "marker": {
             "colorbar": {
              "outlinewidth": 0,
              "ticks": ""
             }
            },
            "type": "scattercarpet"
           }
          ],
          "scattergeo": [
           {
            "marker": {
             "colorbar": {
              "outlinewidth": 0,
              "ticks": ""
             }
            },
            "type": "scattergeo"
           }
          ],
          "scattergl": [
           {
            "marker": {
             "colorbar": {
              "outlinewidth": 0,
              "ticks": ""
             }
            },
            "type": "scattergl"
           }
          ],
          "scattermapbox": [
           {
            "marker": {
             "colorbar": {
              "outlinewidth": 0,
              "ticks": ""
             }
            },
            "type": "scattermapbox"
           }
          ],
          "scatterpolar": [
           {
            "marker": {
             "colorbar": {
              "outlinewidth": 0,
              "ticks": ""
             }
            },
            "type": "scatterpolar"
           }
          ],
          "scatterpolargl": [
           {
            "marker": {
             "colorbar": {
              "outlinewidth": 0,
              "ticks": ""
             }
            },
            "type": "scatterpolargl"
           }
          ],
          "scatterternary": [
           {
            "marker": {
             "colorbar": {
              "outlinewidth": 0,
              "ticks": ""
             }
            },
            "type": "scatterternary"
           }
          ],
          "surface": [
           {
            "colorbar": {
             "outlinewidth": 0,
             "ticks": ""
            },
            "colorscale": [
             [
              0,
              "#0d0887"
             ],
             [
              0.1111111111111111,
              "#46039f"
             ],
             [
              0.2222222222222222,
              "#7201a8"
             ],
             [
              0.3333333333333333,
              "#9c179e"
             ],
             [
              0.4444444444444444,
              "#bd3786"
             ],
             [
              0.5555555555555556,
              "#d8576b"
             ],
             [
              0.6666666666666666,
              "#ed7953"
             ],
             [
              0.7777777777777778,
              "#fb9f3a"
             ],
             [
              0.8888888888888888,
              "#fdca26"
             ],
             [
              1,
              "#f0f921"
             ]
            ],
            "type": "surface"
           }
          ],
          "table": [
           {
            "cells": {
             "fill": {
              "color": "#EBF0F8"
             },
             "line": {
              "color": "white"
             }
            },
            "header": {
             "fill": {
              "color": "#C8D4E3"
             },
             "line": {
              "color": "white"
             }
            },
            "type": "table"
           }
          ]
         },
         "layout": {
          "annotationdefaults": {
           "arrowcolor": "#2a3f5f",
           "arrowhead": 0,
           "arrowwidth": 1
          },
          "autotypenumbers": "strict",
          "coloraxis": {
           "colorbar": {
            "outlinewidth": 0,
            "ticks": ""
           }
          },
          "colorscale": {
           "diverging": [
            [
             0,
             "#8e0152"
            ],
            [
             0.1,
             "#c51b7d"
            ],
            [
             0.2,
             "#de77ae"
            ],
            [
             0.3,
             "#f1b6da"
            ],
            [
             0.4,
             "#fde0ef"
            ],
            [
             0.5,
             "#f7f7f7"
            ],
            [
             0.6,
             "#e6f5d0"
            ],
            [
             0.7,
             "#b8e186"
            ],
            [
             0.8,
             "#7fbc41"
            ],
            [
             0.9,
             "#4d9221"
            ],
            [
             1,
             "#276419"
            ]
           ],
           "sequential": [
            [
             0,
             "#0d0887"
            ],
            [
             0.1111111111111111,
             "#46039f"
            ],
            [
             0.2222222222222222,
             "#7201a8"
            ],
            [
             0.3333333333333333,
             "#9c179e"
            ],
            [
             0.4444444444444444,
             "#bd3786"
            ],
            [
             0.5555555555555556,
             "#d8576b"
            ],
            [
             0.6666666666666666,
             "#ed7953"
            ],
            [
             0.7777777777777778,
             "#fb9f3a"
            ],
            [
             0.8888888888888888,
             "#fdca26"
            ],
            [
             1,
             "#f0f921"
            ]
           ],
           "sequentialminus": [
            [
             0,
             "#0d0887"
            ],
            [
             0.1111111111111111,
             "#46039f"
            ],
            [
             0.2222222222222222,
             "#7201a8"
            ],
            [
             0.3333333333333333,
             "#9c179e"
            ],
            [
             0.4444444444444444,
             "#bd3786"
            ],
            [
             0.5555555555555556,
             "#d8576b"
            ],
            [
             0.6666666666666666,
             "#ed7953"
            ],
            [
             0.7777777777777778,
             "#fb9f3a"
            ],
            [
             0.8888888888888888,
             "#fdca26"
            ],
            [
             1,
             "#f0f921"
            ]
           ]
          },
          "colorway": [
           "#636efa",
           "#EF553B",
           "#00cc96",
           "#ab63fa",
           "#FFA15A",
           "#19d3f3",
           "#FF6692",
           "#B6E880",
           "#FF97FF",
           "#FECB52"
          ],
          "font": {
           "color": "#2a3f5f"
          },
          "geo": {
           "bgcolor": "white",
           "lakecolor": "white",
           "landcolor": "#E5ECF6",
           "showlakes": true,
           "showland": true,
           "subunitcolor": "white"
          },
          "hoverlabel": {
           "align": "left"
          },
          "hovermode": "closest",
          "mapbox": {
           "style": "light"
          },
          "paper_bgcolor": "white",
          "plot_bgcolor": "#E5ECF6",
          "polar": {
           "angularaxis": {
            "gridcolor": "white",
            "linecolor": "white",
            "ticks": ""
           },
           "bgcolor": "#E5ECF6",
           "radialaxis": {
            "gridcolor": "white",
            "linecolor": "white",
            "ticks": ""
           }
          },
          "scene": {
           "xaxis": {
            "backgroundcolor": "#E5ECF6",
            "gridcolor": "white",
            "gridwidth": 2,
            "linecolor": "white",
            "showbackground": true,
            "ticks": "",
            "zerolinecolor": "white"
           },
           "yaxis": {
            "backgroundcolor": "#E5ECF6",
            "gridcolor": "white",
            "gridwidth": 2,
            "linecolor": "white",
            "showbackground": true,
            "ticks": "",
            "zerolinecolor": "white"
           },
           "zaxis": {
            "backgroundcolor": "#E5ECF6",
            "gridcolor": "white",
            "gridwidth": 2,
            "linecolor": "white",
            "showbackground": true,
            "ticks": "",
            "zerolinecolor": "white"
           }
          },
          "shapedefaults": {
           "line": {
            "color": "#2a3f5f"
           }
          },
          "ternary": {
           "aaxis": {
            "gridcolor": "white",
            "linecolor": "white",
            "ticks": ""
           },
           "baxis": {
            "gridcolor": "white",
            "linecolor": "white",
            "ticks": ""
           },
           "bgcolor": "#E5ECF6",
           "caxis": {
            "gridcolor": "white",
            "linecolor": "white",
            "ticks": ""
           }
          },
          "title": {
           "x": 0.05
          },
          "xaxis": {
           "automargin": true,
           "gridcolor": "white",
           "linecolor": "white",
           "ticks": "",
           "title": {
            "standoff": 15
           },
           "zerolinecolor": "white",
           "zerolinewidth": 2
          },
          "yaxis": {
           "automargin": true,
           "gridcolor": "white",
           "linecolor": "white",
           "ticks": "",
           "title": {
            "standoff": 15
           },
           "zerolinecolor": "white",
           "zerolinewidth": 2
          }
         }
        },
        "title": {
         "text": "Distribucija kvalifikacije ispitanika"
        },
        "width": 800
       }
      }
     },
     "metadata": {},
     "output_type": "display_data"
    }
   ],
   "source": [
    "fig5 = px.pie(metadata_df, names=\"QUALIFICATION_ID\", title=\"Distribucija kvalifikacije ispitanika\", hole=0.3)\n",
    "fig5.update_layout(width=800, height=600)\n",
    "fig5.show()"
   ]
  },
  {
   "cell_type": "markdown",
   "metadata": {},
   "source": [
    "Iz ovoga možemo zaključiti da su većina ispitanika žene, preko 80% ispitanika je bijele rase te su ispitanici većinom sami ili u braku. Više od 50% ispitanika ima sveučilišnu diplomu, a skoro njih 50% radi puno radno vrijeme."
   ]
  },
  {
   "cell_type": "code",
   "execution_count": 25,
   "metadata": {},
   "outputs": [
    {
     "data": {
      "application/vnd.plotly.v1+json": {
       "config": {
        "plotlyServerURL": "https://plot.ly"
       },
       "data": [
        {
         "alignmentgroup": "True",
         "bingroup": "x",
         "hovertemplate": "AGE=%{x}<br>count=%{y}<extra></extra>",
         "legendgroup": "",
         "marker": {
          "color": "#636efa",
          "line": {
           "color": "black",
           "width": 1
          },
          "opacity": 0.7,
          "pattern": {
           "shape": ""
          }
         },
         "name": "",
         "nbinsx": 20,
         "offsetgroup": "",
         "orientation": "v",
         "showlegend": false,
         "type": "histogram",
         "x": [
          35.80013689253936,
          38.78165639972622,
          46.71047227926078,
          24.28473648186174,
          55.16769336071184,
          29.09240246406571,
          58.65845311430527,
          39.46611909650924,
          21.56605065023956,
          30.67214236824093,
          33.07871321013005,
          37.6974674880219,
          29.779603011635867,
          34.47775496235455,
          30.417522245037645,
          74.02600958247776,
          59.22245037645448,
          31.460643394934976,
          31.134839151266256,
          24.76386036960985,
          24.34223134839151,
          37.14442162902122,
          23.537303216974674,
          37.21013004791239,
          21.38261464750171,
          23.34839151266256,
          44.09308692676249,
          27.38945927446954,
          27.822039698836413,
          22.647501711156742,
          44.851471594798085,
          40.03559206023272,
          37.73305954825462,
          50.65023956194388,
          31.854893908282,
          63.186858316221766,
          25.741273100616016,
          33.76317590691308,
          53.30595482546201,
          41.75222450376455,
          49.40451745379877,
          25.93839835728953,
          28.15879534565366,
          29.27857631759069,
          34.13826146475017,
          30.699520876112253,
          59.00342231348392,
          36.21629021218344,
          41.12251882272416,
          20.07118412046544,
          23.71526351813826,
          46.16837782340863,
          24.689938398357288,
          24.56947296372348,
          26.272416153319643,
          20.698151950718685,
          37.002053388090346,
          68.60232717316906,
          46.365503080082135,
          22.5325119780972,
          35.9917864476386,
          55.82751540041068,
          36.47912388774812,
          28.50650239561944,
          52.53388090349076,
          21.19917864476386,
          30.89390828199863,
          38.2340862422998,
          31.84941820670773,
          30.069815195071868,
          25.661875427789184,
          49.40451745379877,
          41.82067077344285,
          28.61327857631759,
          33.24024640657084,
          26.87748117727584,
          24.854209445585216,
          24.8952772073922,
          26.924024640657084,
          35.02258726899384,
          29.730321697467488,
          51.75359342915811,
          41.51129363449692,
          45.7741273100616,
          24.621492128678987,
          31.80835044490076,
          26.98425735797399,
          38.90212183436002,
          36.67077344284736,
          31.89596167008898,
          43.162217659137575,
          36.46817248459959,
          37.76591375770021,
          25.1854893908282,
          23.698836413415467,
          32.36139630390144,
          65.40999315537303,
          72.13141683778234,
          25.927446954141,
          32.16974674880219,
          53.67008898015058,
          35.07186858316222,
          22.973305954825463,
          46.57905544147844,
          57.22108145106092,
          29.49760438056126,
          27.326488706365502,
          23.03901437371664,
          38.77344284736482,
          45.22929500342232,
          58.71594798083505,
          47.35386721423682,
          29.00479123887748,
          35.80561259411362,
          41.22929500342232,
          33.138945927446954,
          32.936344969199176,
          27.835728952772072,
          46.00684462696783,
          48.25462012320329,
          31.956194387405887,
          29.357973990417523,
          49.385352498288846,
          33.59342915811088,
          40.55578370978782,
          27.014373716632445,
          45.38809034907597,
          22.431211498973305,
          24.34223134839151,
          59.38124572210815,
          54.42573579739904,
          75.6331279945243,
          24.142368240930868,
          39.39767282683093,
          65.11430527036276,
          50.5242984257358,
          48.05201916495551,
          64.46817248459959,
          24.3750855578371,
          41.20191649555099,
          67.53456536618754,
          43.82477754962355,
          58.76796714579056,
          31.59206023271732,
          74.98973305954826,
          29.57426420260096,
          63.096509240246405,
          72.26557152635182,
          24.854209445585216,
          34.288843258042434,
          25.4072553045859,
          30.143737166324435,
          42.15195071868583,
          45.6974674880219,
          30.17659137577002,
          30.119096509240247,
          83.45790554414785,
          61.15263518138261,
          44.02464065708419,
          41.71937029431896,
          44.205338809034906,
          38.93771389459275,
          55.23887748117728,
          48.33127994524298,
          37.828884325804246,
          29.114305270362767,
          60.46269678302532,
          45.256673511293634,
          63.66324435318276,
          49.9192334017796,
          22.41478439425052,
          20.16700889801506,
          74.63655030800821,
          45.379876796714576,
          50.02327173169062,
          40.36139630390144,
          33.9958932238193,
          32.643394934976044,
          69.32511978097193,
          55.11841204654346,
          59.12936344969199,
          54.66392881587954,
          24.31211498973306,
          73.01574264202601,
          57.21013004791239,
          35.40588637919233,
          53.08145106091718,
          48.54757015742642,
          36.06023271731691,
          63.24709103353867,
          36.91991786447639,
          47.01437371663244,
          41.90280629705681,
          67.05544147843942,
          72.3504449007529,
          21.15263518138261,
          58.992470910335385,
          28.810403832991103,
          26.75427789185489,
          33.13347022587269,
          25.71389459274469,
          78.20396988364134,
          27.72621492128679,
          62.95961670088981,
          39.0362765229295,
          30.00684462696783,
          31.370294318959616,
          49.04312114989733,
          42.220396988364136,
          29.817932922655714,
          44.87611225188228,
          68.26830937713895,
          72.88432580424367,
          80.1697467488022,
          70.55989048596851,
          24.00273785078713,
          25.582477754962355,
          57.70294318959617,
          27.38398357289528,
          69.54688569472964,
          22.570841889117045,
          59.78370978781656,
          60.90622861054072,
          34.20670773442848,
          20.928131416837783,
          25.21286789869952,
          44.88158795345654,
          27.381245722108144,
          61.06502395619439,
          35.44695414099932,
          44.91991786447639,
          26.57905544147844,
          61.01574264202601,
          73.53867214236824,
          24.175222450376456,
          20.908966461327857,
          61.33607118412046,
          20.213552361396303,
          51.88227241615332,
          42.507871321013006,
          40.0082135523614,
          63.044490075290895,
          40.81314168377824,
          54.27789185489391,
          44.99110198494182,
          78.5845311430527,
          60.84052019164955,
          45.75222450376455,
          30.688569472963724,
          23.731690622861056,
          26.521560574948666,
          27.082819986310746,
          50.90212183436002,
          63.97262149212868,
          51.29089664613279,
          43.460643394934976,
          53.4072553045859,
          38.27789185489391,
          59.50992470910335,
          25.464750171115675,
          46.59000684462697,
          62.50513347022587,
          30.18206707734429,
          33.00479123887748,
          41.20465434633813,
          62.01779603011636,
          61.58795345653662,
          59.14852840520192,
          65.85352498288843,
          45.8590006844627,
          25.45106091718001,
          56.93908281998631,
          67.79466119096509,
          54.48596851471595,
          59.4715947980835,
          29.738535249828885,
          54.743326488706366,
          28.476386036960985,
          60.07939767282683,
          52.6652977412731,
          67.73990417522245,
          73.56331279945243,
          61.78507871321013,
          55.65503080082136,
          44.48186173853525,
          23.48802190280629,
          42.3709787816564,
          69.28952772073922,
          69.27583846680356,
          67.77275838466804,
          61.48665297741273,
          null,
          48.67898699520876,
          62.09445585215606,
          38.58726899383984,
          62.68035592060232,
          56.91991786447639,
          52.68993839835729,
          45.61533196440794,
          64.10403832991102,
          63.540041067761805,
          62.06160164271047,
          62.06160164271047,
          54.19301848049281,
          54.19301848049281,
          41.09514031485284,
          60.91991786447639,
          67.16221765913758,
          66.52703627652294,
          54.21492128678987,
          54.21492128678987,
          60.5968514715948,
          60.5968514715948,
          26.39835728952772,
          29.256673511293634,
          58.79260780287474,
          41.059548254620125,
          72.59411362080766,
          72.59411362080766,
          38.83915126625599,
          66.90759753593429,
          66.90759753593429,
          59.67145790554415,
          65.90828199863107,
          74.01232032854209,
          74.01232032854209,
          64.64613278576317,
          52.30116358658453,
          46.431211498973305,
          33.34976043805612,
          58.36824093086927,
          41.889117043121146,
          52.53114305270363,
          62.455852156057496,
          60.101300479123886,
          53.74948665297741,
          45.0321697467488,
          53.56605065023956,
          51.657768651608485,
          51.657768651608485,
          73.54414784394251,
          55.58110882956879,
          55.58110882956879,
          53.53593429158111,
          53.53593429158111,
          62.7378507871321,
          58.56810403832991,
          58.28336755646817,
          58.28062970568104,
          52.12867898699521,
          70.9514031485284,
          53.412731006160165,
          53.412731006160165,
          58.56810403832991,
          59.83572895277207,
          59.742642026009584,
          72.32580424366871,
          72.145106091718,
          59.88227241615332,
          59.742642026009584,
          73.18275154004107,
          73.18275154004107,
          37.097878165639976,
          39.02258726899384,
          46.29705681040383,
          19.980835044490075,
          23.110198494182068,
          34.28336755646817,
          55.540041067761805,
          55.540041067761805,
          58.78165639972622,
          57.738535249828885,
          67.24161533196441,
          null,
          28.347707049965777,
          55.59753593429158,
          63.676933607118414,
          43.91786447638604,
          48.101300479123886,
          48.101300479123886,
          61.36618754277892,
          69.13347022587268,
          58.37645448323067,
          60.02737850787132,
          60.10951403148528,
          72.8268309377139,
          79.41409993155374,
          46.89664613278576,
          68.50924024640658,
          41.13073237508556,
          63.4031485284052,
          63.41683778234086,
          32.577686516084874,
          68.48186173853524,
          70.24777549623545,
          70.71047227926078,
          62.42573579739904,
          60.8952772073922,
          60.8952772073922,
          86.3189596167009,
          69.28131416837782,
          66.94866529774127,
          67.69883641341546,
          32.837782340862425,
          35.983572895277206,
          68.13415468856947,
          34.012320328542096,
          32.70362765229295,
          78.35728952772074,
          46.42573579739904,
          49.01574264202601,
          60.0164271047228,
          60.0164271047228,
          65.3305954825462,
          72.09034907597535,
          63.39219712525667,
          66.37371663244353,
          68.85147159479808,
          63.83572895277207,
          66.27515400410678,
          69.06776180698152,
          69.06776180698152,
          70.1409993155373,
          75.97262149212868,
          69.28952772073922,
          67.76728268309377,
          66.33264887063655,
          60.86789869952088,
          62.80355920602327,
          72.30663928815879,
          76.78028747433265,
          82.18754277891856,
          67.1129363449692,
          63.87679671457906,
          65.09514031485284,
          68.15058179329226,
          62.24503764544832,
          69.6892539356605,
          71.66324435318275,
          60.930869267624914,
          32.42436687200548,
          64.57768651608487,
          64.75017111567419,
          62.08898015058179,
          60.41067761806981,
          36.16427104722793,
          75.82751540041068,
          57.50581793292265,
          70.83641341546885,
          28.933607118412045,
          63.419575633128,
          33.516769336071185,
          41.51950718685831,
          54.60917180013689,
          53.327857631759066,
          40.5284052019165,
          75.93702943189597,
          36.55304585900068,
          73.60438056125942,
          69.60985626283367,
          65.25941136208077,
          58.83093771389459,
          67.4551676933607,
          81.94113620807666,
          78.072553045859,
          36.42162902121834,
          44.38329911019849,
          70.51882272416154,
          58.04243668720055,
          60.07392197125257,
          33.831622176591374,
          66.32991101984942,
          25.018480492813143,
          59.90691307323751,
          70.50239561943874,
          64.66255989048597,
          28.24366872005476,
          70.10540725530458,
          65.66735112936345,
          55.63586584531143,
          66.85831622176592,
          67.81930184804928,
          63.86858316221766,
          31.578370978781656,
          42.789869952087614,
          28.372347707049965,
          63.81656399726215,
          42.97056810403833,
          28.56125941136208,
          33.686516084873375,
          56.9637234770705,
          38.88569472963724,
          41.94934976043805,
          35.455167693360714,
          50.573579739904176,
          57.75496235455168,
          67.33196440793976,
          64.18617385352498,
          57.86447638603696,
          41.215605749486656,
          29.77138945927447,
          41.327857631759066,
          28.12046543463381,
          34.365503080082135,
          33.59342915811088,
          45.295003422313485,
          59.893223819301845,
          48.07939767282683,
          55.21971252566736,
          61.9958932238193,
          49.596167008898014,
          29.66461327857632,
          43.07734428473648,
          52.8870636550308,
          39.38398357289528,
          38.95961670088981,
          35.51540041067762,
          66.01505817932923,
          70.33264887063655,
          60.539356605065024,
          83.81108829568788,
          52.498288843258045,
          28.996577686516083,
          56.67624914442163,
          28.870636550308006,
          33.91649555099247,
          25.58521560574949,
          26.92950034223135,
          55.08829568788501,
          39.175906913073234,
          37.94934976043805,
          24.876112251882272,
          31.616700889801507,
          59.68514715947981,
          null,
          47.069130732375086,
          64.26830937713895,
          68.48459958932239,
          59.26351813826147,
          54.68583162217659,
          41.30047912388775,
          56.43805612594114,
          36.70636550308008,
          34.05612594113621,
          25.530458590006845,
          43.15674195756331,
          86.19849418206708,
          80.8021902806297,
          68.12320328542094,
          57.06776180698152,
          56.87337440109514,
          71.2060232717317,
          47.723477070499655,
          50.39561943874059,
          42.98973305954826,
          46.220396988364136,
          41.74127310061601
         ],
         "xaxis": "x",
         "yaxis": "y"
        }
       ],
       "layout": {
        "barmode": "relative",
        "height": 600,
        "legend": {
         "tracegroupgap": 0
        },
        "template": {
         "data": {
          "bar": [
           {
            "error_x": {
             "color": "#2a3f5f"
            },
            "error_y": {
             "color": "#2a3f5f"
            },
            "marker": {
             "line": {
              "color": "white",
              "width": 0.5
             },
             "pattern": {
              "fillmode": "overlay",
              "size": 10,
              "solidity": 0.2
             }
            },
            "type": "bar"
           }
          ],
          "barpolar": [
           {
            "marker": {
             "line": {
              "color": "white",
              "width": 0.5
             },
             "pattern": {
              "fillmode": "overlay",
              "size": 10,
              "solidity": 0.2
             }
            },
            "type": "barpolar"
           }
          ],
          "carpet": [
           {
            "aaxis": {
             "endlinecolor": "#2a3f5f",
             "gridcolor": "#C8D4E3",
             "linecolor": "#C8D4E3",
             "minorgridcolor": "#C8D4E3",
             "startlinecolor": "#2a3f5f"
            },
            "baxis": {
             "endlinecolor": "#2a3f5f",
             "gridcolor": "#C8D4E3",
             "linecolor": "#C8D4E3",
             "minorgridcolor": "#C8D4E3",
             "startlinecolor": "#2a3f5f"
            },
            "type": "carpet"
           }
          ],
          "choropleth": [
           {
            "colorbar": {
             "outlinewidth": 0,
             "ticks": ""
            },
            "type": "choropleth"
           }
          ],
          "contour": [
           {
            "colorbar": {
             "outlinewidth": 0,
             "ticks": ""
            },
            "colorscale": [
             [
              0,
              "#0d0887"
             ],
             [
              0.1111111111111111,
              "#46039f"
             ],
             [
              0.2222222222222222,
              "#7201a8"
             ],
             [
              0.3333333333333333,
              "#9c179e"
             ],
             [
              0.4444444444444444,
              "#bd3786"
             ],
             [
              0.5555555555555556,
              "#d8576b"
             ],
             [
              0.6666666666666666,
              "#ed7953"
             ],
             [
              0.7777777777777778,
              "#fb9f3a"
             ],
             [
              0.8888888888888888,
              "#fdca26"
             ],
             [
              1,
              "#f0f921"
             ]
            ],
            "type": "contour"
           }
          ],
          "contourcarpet": [
           {
            "colorbar": {
             "outlinewidth": 0,
             "ticks": ""
            },
            "type": "contourcarpet"
           }
          ],
          "heatmap": [
           {
            "colorbar": {
             "outlinewidth": 0,
             "ticks": ""
            },
            "colorscale": [
             [
              0,
              "#0d0887"
             ],
             [
              0.1111111111111111,
              "#46039f"
             ],
             [
              0.2222222222222222,
              "#7201a8"
             ],
             [
              0.3333333333333333,
              "#9c179e"
             ],
             [
              0.4444444444444444,
              "#bd3786"
             ],
             [
              0.5555555555555556,
              "#d8576b"
             ],
             [
              0.6666666666666666,
              "#ed7953"
             ],
             [
              0.7777777777777778,
              "#fb9f3a"
             ],
             [
              0.8888888888888888,
              "#fdca26"
             ],
             [
              1,
              "#f0f921"
             ]
            ],
            "type": "heatmap"
           }
          ],
          "heatmapgl": [
           {
            "colorbar": {
             "outlinewidth": 0,
             "ticks": ""
            },
            "colorscale": [
             [
              0,
              "#0d0887"
             ],
             [
              0.1111111111111111,
              "#46039f"
             ],
             [
              0.2222222222222222,
              "#7201a8"
             ],
             [
              0.3333333333333333,
              "#9c179e"
             ],
             [
              0.4444444444444444,
              "#bd3786"
             ],
             [
              0.5555555555555556,
              "#d8576b"
             ],
             [
              0.6666666666666666,
              "#ed7953"
             ],
             [
              0.7777777777777778,
              "#fb9f3a"
             ],
             [
              0.8888888888888888,
              "#fdca26"
             ],
             [
              1,
              "#f0f921"
             ]
            ],
            "type": "heatmapgl"
           }
          ],
          "histogram": [
           {
            "marker": {
             "pattern": {
              "fillmode": "overlay",
              "size": 10,
              "solidity": 0.2
             }
            },
            "type": "histogram"
           }
          ],
          "histogram2d": [
           {
            "colorbar": {
             "outlinewidth": 0,
             "ticks": ""
            },
            "colorscale": [
             [
              0,
              "#0d0887"
             ],
             [
              0.1111111111111111,
              "#46039f"
             ],
             [
              0.2222222222222222,
              "#7201a8"
             ],
             [
              0.3333333333333333,
              "#9c179e"
             ],
             [
              0.4444444444444444,
              "#bd3786"
             ],
             [
              0.5555555555555556,
              "#d8576b"
             ],
             [
              0.6666666666666666,
              "#ed7953"
             ],
             [
              0.7777777777777778,
              "#fb9f3a"
             ],
             [
              0.8888888888888888,
              "#fdca26"
             ],
             [
              1,
              "#f0f921"
             ]
            ],
            "type": "histogram2d"
           }
          ],
          "histogram2dcontour": [
           {
            "colorbar": {
             "outlinewidth": 0,
             "ticks": ""
            },
            "colorscale": [
             [
              0,
              "#0d0887"
             ],
             [
              0.1111111111111111,
              "#46039f"
             ],
             [
              0.2222222222222222,
              "#7201a8"
             ],
             [
              0.3333333333333333,
              "#9c179e"
             ],
             [
              0.4444444444444444,
              "#bd3786"
             ],
             [
              0.5555555555555556,
              "#d8576b"
             ],
             [
              0.6666666666666666,
              "#ed7953"
             ],
             [
              0.7777777777777778,
              "#fb9f3a"
             ],
             [
              0.8888888888888888,
              "#fdca26"
             ],
             [
              1,
              "#f0f921"
             ]
            ],
            "type": "histogram2dcontour"
           }
          ],
          "mesh3d": [
           {
            "colorbar": {
             "outlinewidth": 0,
             "ticks": ""
            },
            "type": "mesh3d"
           }
          ],
          "parcoords": [
           {
            "line": {
             "colorbar": {
              "outlinewidth": 0,
              "ticks": ""
             }
            },
            "type": "parcoords"
           }
          ],
          "pie": [
           {
            "automargin": true,
            "type": "pie"
           }
          ],
          "scatter": [
           {
            "fillpattern": {
             "fillmode": "overlay",
             "size": 10,
             "solidity": 0.2
            },
            "type": "scatter"
           }
          ],
          "scatter3d": [
           {
            "line": {
             "colorbar": {
              "outlinewidth": 0,
              "ticks": ""
             }
            },
            "marker": {
             "colorbar": {
              "outlinewidth": 0,
              "ticks": ""
             }
            },
            "type": "scatter3d"
           }
          ],
          "scattercarpet": [
           {
            "marker": {
             "colorbar": {
              "outlinewidth": 0,
              "ticks": ""
             }
            },
            "type": "scattercarpet"
           }
          ],
          "scattergeo": [
           {
            "marker": {
             "colorbar": {
              "outlinewidth": 0,
              "ticks": ""
             }
            },
            "type": "scattergeo"
           }
          ],
          "scattergl": [
           {
            "marker": {
             "colorbar": {
              "outlinewidth": 0,
              "ticks": ""
             }
            },
            "type": "scattergl"
           }
          ],
          "scattermapbox": [
           {
            "marker": {
             "colorbar": {
              "outlinewidth": 0,
              "ticks": ""
             }
            },
            "type": "scattermapbox"
           }
          ],
          "scatterpolar": [
           {
            "marker": {
             "colorbar": {
              "outlinewidth": 0,
              "ticks": ""
             }
            },
            "type": "scatterpolar"
           }
          ],
          "scatterpolargl": [
           {
            "marker": {
             "colorbar": {
              "outlinewidth": 0,
              "ticks": ""
             }
            },
            "type": "scatterpolargl"
           }
          ],
          "scatterternary": [
           {
            "marker": {
             "colorbar": {
              "outlinewidth": 0,
              "ticks": ""
             }
            },
            "type": "scatterternary"
           }
          ],
          "surface": [
           {
            "colorbar": {
             "outlinewidth": 0,
             "ticks": ""
            },
            "colorscale": [
             [
              0,
              "#0d0887"
             ],
             [
              0.1111111111111111,
              "#46039f"
             ],
             [
              0.2222222222222222,
              "#7201a8"
             ],
             [
              0.3333333333333333,
              "#9c179e"
             ],
             [
              0.4444444444444444,
              "#bd3786"
             ],
             [
              0.5555555555555556,
              "#d8576b"
             ],
             [
              0.6666666666666666,
              "#ed7953"
             ],
             [
              0.7777777777777778,
              "#fb9f3a"
             ],
             [
              0.8888888888888888,
              "#fdca26"
             ],
             [
              1,
              "#f0f921"
             ]
            ],
            "type": "surface"
           }
          ],
          "table": [
           {
            "cells": {
             "fill": {
              "color": "#EBF0F8"
             },
             "line": {
              "color": "white"
             }
            },
            "header": {
             "fill": {
              "color": "#C8D4E3"
             },
             "line": {
              "color": "white"
             }
            },
            "type": "table"
           }
          ]
         },
         "layout": {
          "annotationdefaults": {
           "arrowcolor": "#2a3f5f",
           "arrowhead": 0,
           "arrowwidth": 1
          },
          "autotypenumbers": "strict",
          "coloraxis": {
           "colorbar": {
            "outlinewidth": 0,
            "ticks": ""
           }
          },
          "colorscale": {
           "diverging": [
            [
             0,
             "#8e0152"
            ],
            [
             0.1,
             "#c51b7d"
            ],
            [
             0.2,
             "#de77ae"
            ],
            [
             0.3,
             "#f1b6da"
            ],
            [
             0.4,
             "#fde0ef"
            ],
            [
             0.5,
             "#f7f7f7"
            ],
            [
             0.6,
             "#e6f5d0"
            ],
            [
             0.7,
             "#b8e186"
            ],
            [
             0.8,
             "#7fbc41"
            ],
            [
             0.9,
             "#4d9221"
            ],
            [
             1,
             "#276419"
            ]
           ],
           "sequential": [
            [
             0,
             "#0d0887"
            ],
            [
             0.1111111111111111,
             "#46039f"
            ],
            [
             0.2222222222222222,
             "#7201a8"
            ],
            [
             0.3333333333333333,
             "#9c179e"
            ],
            [
             0.4444444444444444,
             "#bd3786"
            ],
            [
             0.5555555555555556,
             "#d8576b"
            ],
            [
             0.6666666666666666,
             "#ed7953"
            ],
            [
             0.7777777777777778,
             "#fb9f3a"
            ],
            [
             0.8888888888888888,
             "#fdca26"
            ],
            [
             1,
             "#f0f921"
            ]
           ],
           "sequentialminus": [
            [
             0,
             "#0d0887"
            ],
            [
             0.1111111111111111,
             "#46039f"
            ],
            [
             0.2222222222222222,
             "#7201a8"
            ],
            [
             0.3333333333333333,
             "#9c179e"
            ],
            [
             0.4444444444444444,
             "#bd3786"
            ],
            [
             0.5555555555555556,
             "#d8576b"
            ],
            [
             0.6666666666666666,
             "#ed7953"
            ],
            [
             0.7777777777777778,
             "#fb9f3a"
            ],
            [
             0.8888888888888888,
             "#fdca26"
            ],
            [
             1,
             "#f0f921"
            ]
           ]
          },
          "colorway": [
           "#636efa",
           "#EF553B",
           "#00cc96",
           "#ab63fa",
           "#FFA15A",
           "#19d3f3",
           "#FF6692",
           "#B6E880",
           "#FF97FF",
           "#FECB52"
          ],
          "font": {
           "color": "#2a3f5f"
          },
          "geo": {
           "bgcolor": "white",
           "lakecolor": "white",
           "landcolor": "white",
           "showlakes": true,
           "showland": true,
           "subunitcolor": "#C8D4E3"
          },
          "hoverlabel": {
           "align": "left"
          },
          "hovermode": "closest",
          "mapbox": {
           "style": "light"
          },
          "paper_bgcolor": "white",
          "plot_bgcolor": "white",
          "polar": {
           "angularaxis": {
            "gridcolor": "#EBF0F8",
            "linecolor": "#EBF0F8",
            "ticks": ""
           },
           "bgcolor": "white",
           "radialaxis": {
            "gridcolor": "#EBF0F8",
            "linecolor": "#EBF0F8",
            "ticks": ""
           }
          },
          "scene": {
           "xaxis": {
            "backgroundcolor": "white",
            "gridcolor": "#DFE8F3",
            "gridwidth": 2,
            "linecolor": "#EBF0F8",
            "showbackground": true,
            "ticks": "",
            "zerolinecolor": "#EBF0F8"
           },
           "yaxis": {
            "backgroundcolor": "white",
            "gridcolor": "#DFE8F3",
            "gridwidth": 2,
            "linecolor": "#EBF0F8",
            "showbackground": true,
            "ticks": "",
            "zerolinecolor": "#EBF0F8"
           },
           "zaxis": {
            "backgroundcolor": "white",
            "gridcolor": "#DFE8F3",
            "gridwidth": 2,
            "linecolor": "#EBF0F8",
            "showbackground": true,
            "ticks": "",
            "zerolinecolor": "#EBF0F8"
           }
          },
          "shapedefaults": {
           "line": {
            "color": "#2a3f5f"
           }
          },
          "ternary": {
           "aaxis": {
            "gridcolor": "#DFE8F3",
            "linecolor": "#A2B1C6",
            "ticks": ""
           },
           "baxis": {
            "gridcolor": "#DFE8F3",
            "linecolor": "#A2B1C6",
            "ticks": ""
           },
           "bgcolor": "white",
           "caxis": {
            "gridcolor": "#DFE8F3",
            "linecolor": "#A2B1C6",
            "ticks": ""
           }
          },
          "title": {
           "x": 0.05
          },
          "xaxis": {
           "automargin": true,
           "gridcolor": "#EBF0F8",
           "linecolor": "#EBF0F8",
           "ticks": "",
           "title": {
            "standoff": 15
           },
           "zerolinecolor": "#EBF0F8",
           "zerolinewidth": 2
          },
          "yaxis": {
           "automargin": true,
           "gridcolor": "#EBF0F8",
           "linecolor": "#EBF0F8",
           "ticks": "",
           "title": {
            "standoff": 15
           },
           "zerolinecolor": "#EBF0F8",
           "zerolinewidth": 2
          }
         }
        },
        "title": {
         "text": "Distribucija godina ispitanika"
        },
        "width": 800,
        "xaxis": {
         "anchor": "y",
         "domain": [
          0,
          1
         ],
         "title": {
          "text": "Dob ispitanika"
         }
        },
        "yaxis": {
         "anchor": "x",
         "domain": [
          0,
          1
         ],
         "title": {
          "text": "Broj ispitanika"
         }
        }
       }
      }
     },
     "metadata": {},
     "output_type": "display_data"
    }
   ],
   "source": [
    "#distribucija godina ispitanika\n",
    "fig6 = px.histogram(\n",
    "    metadata_df, x=\"AGE\", title=\"Distribucija godina ispitanika\",\n",
    "    nbins=20,\n",
    "    opacity=0.7, \n",
    ")\n",
    "\n",
    "fig6.update_traces(marker=dict(line=dict(width=1, color='black')))\n",
    "\n",
    "fig6.update_layout(\n",
    "    width=800, height=600,\n",
    "    xaxis_title=\"Dob ispitanika\",\n",
    "    yaxis_title=\"Broj ispitanika\",\n",
    "    template=\"plotly_white\"\n",
    ")\n",
    "\n",
    "fig6.show()"
   ]
  },
  {
   "cell_type": "markdown",
   "metadata": {},
   "source": [
    "Vidimo da postoje ispitanici raznih dobnih skupina, a najviše ih je s oko 60tak godina."
   ]
  }
 ],
 "metadata": {
  "kernelspec": {
   "display_name": "lumen",
   "language": "python",
   "name": "python3"
  },
  "language_info": {
   "codemirror_mode": {
    "name": "ipython",
    "version": 3
   },
   "file_extension": ".py",
   "mimetype": "text/x-python",
   "name": "python",
   "nbconvert_exporter": "python",
   "pygments_lexer": "ipython3",
   "version": "3.12.9"
  }
 },
 "nbformat": 4,
 "nbformat_minor": 2
}
